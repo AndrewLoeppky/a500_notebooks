{
 "cells": [
  {
   "cell_type": "markdown",
   "metadata": {
    "toc": true
   },
   "source": [
    "<h1>Table of Contents<span class=\"tocSkip\"></span></h1>\n",
    "<div class=\"toc\"><ul class=\"toc-item\"><li><span><a href=\"#Reading-a-netcdf-file\" data-toc-modified-id=\"Reading-a-netcdf-file-1\"><span class=\"toc-item-num\">1&nbsp;&nbsp;</span>Reading a netcdf file</a></span></li><li><span><a href=\"#By-default-netCDF4-converts-netcdf-variables-to-masked-arrays\" data-toc-modified-id=\"By-default-netCDF4-converts-netcdf-variables-to-masked-arrays-2\"><span class=\"toc-item-num\">2&nbsp;&nbsp;</span>By default netCDF4 converts netcdf variables to masked arrays</a></span><ul class=\"toc-item\"><li><span><a href=\"#How-much-liquid-water-is-in-the-domain?\" data-toc-modified-id=\"How-much-liquid-water-is-in-the-domain?-2.1\"><span class=\"toc-item-num\">2.1&nbsp;&nbsp;</span>How much liquid water is in the domain?</a></span></li><li><span><a href=\"#As-expected,-vapor-transport-dominates-the-energy-flux-in-the-warm-marine-boundary-layer\" data-toc-modified-id=\"As-expected,-vapor-transport-dominates-the-energy-flux-in-the-warm-marine-boundary-layer-2.2\"><span class=\"toc-item-num\">2.2&nbsp;&nbsp;</span>As expected, vapor transport dominates the energy flux in the warm marine boundary layer</a></span></li></ul></li><li><span><a href=\"#Now-look-at-the-individual-budget-terms\" data-toc-modified-id=\"Now-look-at-the-individual-budget-terms-3\"><span class=\"toc-item-num\">3&nbsp;&nbsp;</span>Now look at the individual budget terms</a></span></li><li><span><a href=\"#Save-all-this-in-a-dictionary\" data-toc-modified-id=\"Save-all-this-in-a-dictionary-4\"><span class=\"toc-item-num\">4&nbsp;&nbsp;</span>Save all this in a dictionary</a></span></li><li><span><a href=\"#check-some-values\" data-toc-modified-id=\"check-some-values-5\"><span class=\"toc-item-num\">5&nbsp;&nbsp;</span>check some values</a></span></li><li><span><a href=\"#Do-a-checkpoint-save-for-all-the-variables\" data-toc-modified-id=\"Do-a-checkpoint-save-for-all-the-variables-6\"><span class=\"toc-item-num\">6&nbsp;&nbsp;</span>Do a checkpoint save for all the variables</a></span></li><li><span><a href=\"#What-are-the-rms-perturbation-profiles?\" data-toc-modified-id=\"What-are-the-rms-perturbation-profiles?-7\"><span class=\"toc-item-num\">7&nbsp;&nbsp;</span>What are the rms perturbation profiles?</a></span></li><li><span><a href=\"#set-scaling-parameters-q*-and-w*-from-rms-values\" data-toc-modified-id=\"set-scaling-parameters-q*-and-w*-from-rms-values-8\"><span class=\"toc-item-num\">8&nbsp;&nbsp;</span>set scaling parameters q* and w* from rms values</a></span></li><li><span><a href=\"#Look-at-mean-gradient-terms-in-XI\" data-toc-modified-id=\"Look-at-mean-gradient-terms-in-XI-9\"><span class=\"toc-item-num\">9&nbsp;&nbsp;</span>Look at mean gradient terms in XI</a></span></li><li><span><a href=\"#Sum-the-three-terms\" data-toc-modified-id=\"Sum-the-three-terms-10\"><span class=\"toc-item-num\">10&nbsp;&nbsp;</span>Sum the three terms</a></span></li></ul></div>"
   ]
  },
  {
   "cell_type": "raw",
   "metadata": {},
   "source": [
    "\\pagestyle{first}"
   ]
  },
  {
   "cell_type": "markdown",
   "metadata": {},
   "source": [
    "# Including water vapor in the tropical analysis"
   ]
  },
  {
   "cell_type": "markdown",
   "metadata": {},
   "source": [
    "1.  What do the fluxes of sensible and latent heat look like for the tropical case?\n",
    "\n",
    "1.  Drill down into the data using\n",
    "\n",
    "    a.  Two dimensional histograms\n",
    "    \n",
    "    b.  images with normalized color pallettes"
   ]
  },
  {
   "cell_type": "markdown",
   "metadata": {},
   "source": [
    "## Reading a netcdf file"
   ]
  },
  {
   "cell_type": "markdown",
   "metadata": {},
   "source": [
    "1.  Fetch the netcdf file tropical.nc from my webserver (50 Mbytes)"
   ]
  },
  {
   "cell_type": "code",
   "execution_count": 1,
   "metadata": {},
   "outputs": [
    {
     "name": "stdout",
     "output_type": "stream",
     "text": [
      "******************************\n",
      "context imported. Front of path:\n",
      "/Users/phil/repos/a500_notebooks\n",
      "/Users/phil/repos/a500_notebooks/notebooks\n",
      "******************************\n",
      "\n",
      "through /Users/phil/repos/a500_notebooks/notebooks/context.py -- pha\n",
      "through /Users/phil/repos/a500_notebooks/a500/__init__.py pha II\n"
     ]
    }
   ],
   "source": [
    "import context\n",
    "import urllib.request\n",
    "import numpy as np\n",
    "from netCDF4 import Dataset\n",
    "from matplotlib import pyplot as plt\n",
    "from a500.utils.ncdump import ncdump\n",
    "import a500\n",
    "from a500.thermo import calc_theta\n",
    "import copy"
   ]
  },
  {
   "cell_type": "code",
   "execution_count": 2,
   "metadata": {},
   "outputs": [
    {
     "name": "stdout",
     "output_type": "stream",
     "text": [
      "trying http://clouds.eos.ubc.ca/~phil/docs/atsc500/tropical_subset.nc\n",
      "writing to: /Users/phil/repos/a500_notebooks/data/tropical_subset.nc\n",
      "\n",
      "tropical_subset.nc already exists\n",
      "and is 52116281 bytes\n",
      "will not overwrite\n",
      "\n"
     ]
    }
   ],
   "source": [
    "from a500.utils.data_read import download\n",
    "the_root = \"http://clouds.eos.ubc.ca/~phil/docs/atsc500\"\n",
    "the_file =  \"tropical_subset.nc\"\n",
    "out=download(the_file,root=the_root,dest_folder=a500.data_dir)\n",
    "g2kg=1.e-3\n",
    "kg2g=1.e3"
   ]
  },
  {
   "cell_type": "code",
   "execution_count": 3,
   "metadata": {},
   "outputs": [],
   "source": [
    "def calc_thetav(theta, wv, wl):\n",
    "    \"\"\"\n",
    "    Thetav using stull 1.5.1a\n",
    "    \n",
    "    Parameters\n",
    "    ----------\n",
    "    \n",
    "    theta: float\n",
    "       potential temperature(K)\n",
    "\n",
    "    wv: float\n",
    "       vapor mixing ratio (kg/kg)\n",
    "       \n",
    "    wl: float\n",
    "       liquid mixing ratio (kg/kg)\n",
    "       \n",
    "    Returns\n",
    "    -------\n",
    "    \n",
    "    theta_v: float\n",
    "      virtual potential temperature\n",
    "    \"\"\"\n",
    "    theta_v = theta*(1 + 0.61*wv - wl)\n",
    "    return theta_v"
   ]
  },
  {
   "cell_type": "code",
   "execution_count": 4,
   "metadata": {},
   "outputs": [],
   "source": [
    "def xy_avg(var):\n",
    "    \"\"\"\n",
    "    assuming var is 3d with axis (z,y,x)\n",
    "    take the avg over x followed by the axg over y\n",
    "    \"\"\"\n",
    "    return array3d.mean(axis=2).mean(axis=1)\n",
    "\n",
    "def do_reynolds(array3d):\n",
    "    \"\"\"\n",
    "        do a spatial-mean reynolds average of a 3d field array3d\n",
    "        needs dimensions arranged as (z,y,x)\n",
    "        returns avg(z),perturb(z,y,x)\n",
    "    \"\"\"\n",
    "    avg=array3d.mean(axis=2).mean(axis=1)\n",
    "    perturb=array3d.T - avg\n",
    "    perturb=perturb.T\n",
    "    return avg,perturb"
   ]
  },
  {
   "cell_type": "markdown",
   "metadata": {},
   "source": [
    "2\\.  Identify the file structure using ncdump"
   ]
  },
  {
   "cell_type": "code",
   "execution_count": 5,
   "metadata": {},
   "outputs": [
    {
     "name": "stdout",
     "output_type": "stream",
     "text": [
      "NetCDF Global Attributes:\n",
      "NetCDF dimension information:\n",
      "\tName: x\n",
      "\t\tsize: 100\n",
      "\t\ttype: dtype('float32')\n",
      "\t\tunits: 'm'\n",
      "\tName: y\n",
      "\t\tsize: 110\n",
      "\t\ttype: dtype('float32')\n",
      "\t\tunits: 'm'\n",
      "\tName: z\n",
      "\t\tsize: 112\n",
      "\t\ttype: dtype('float32')\n",
      "\t\tunits: 'm'\n",
      "\t\tlong_name: 'height'\n",
      "\tName: time\n",
      "\t\tsize: 1\n",
      "\t\ttype: dtype('float32')\n",
      "\t\tunits: 'd'\n",
      "\t\tlong_name: 'time'\n",
      "NetCDF variable information for group root:\n",
      "\tName: p\n",
      "\t\tdimensions: ('z',)\n",
      "\t\tsize: 112\n",
      "\t\ttype: dtype('float32')\n",
      "\t\tunits: 'mb'\n",
      "\t\tlong_name: 'pressure'\n",
      "\tName: U\n",
      "\t\tdimensions: ('time', 'z', 'y', 'x')\n",
      "\t\tsize: 1232000\n",
      "\t\ttype: dtype('float32')\n",
      "\t\tlong_name: 'X Wind Component'\n",
      "\t\tunits: 'm/s'\n",
      "\tName: V\n",
      "\t\tdimensions: ('time', 'z', 'y', 'x')\n",
      "\t\tsize: 1232000\n",
      "\t\ttype: dtype('float32')\n",
      "\t\tlong_name: 'Y Wind Component'\n",
      "\t\tunits: 'm/s'\n",
      "\tName: W\n",
      "\t\tdimensions: ('time', 'z', 'y', 'x')\n",
      "\t\tsize: 1232000\n",
      "\t\ttype: dtype('float32')\n",
      "\t\tlong_name: 'Z Wind Component'\n",
      "\t\tunits: 'm/s'\n",
      "\tName: PP\n",
      "\t\tdimensions: ('time', 'z', 'y', 'x')\n",
      "\t\tsize: 1232000\n",
      "\t\ttype: dtype('float32')\n",
      "\t\tlong_name: 'Pressure Perturbation'\n",
      "\t\tunits: 'Pa'\n",
      "\tName: TABS\n",
      "\t\tdimensions: ('time', 'z', 'y', 'x')\n",
      "\t\tsize: 1232000\n",
      "\t\ttype: dtype('float32')\n",
      "\t\tlong_name: 'Absolute Temperature'\n",
      "\t\tunits: 'K'\n",
      "\tName: QV\n",
      "\t\tdimensions: ('time', 'z', 'y', 'x')\n",
      "\t\tsize: 1232000\n",
      "\t\ttype: dtype('float32')\n",
      "\t\tlong_name: 'Water Vapor'\n",
      "\t\tunits: 'g/kg'\n",
      "\tName: QN\n",
      "\t\tdimensions: ('time', 'z', 'y', 'x')\n",
      "\t\tsize: 1232000\n",
      "\t\ttype: dtype('float32')\n",
      "\t\tlong_name: 'Non-precipitating Condensate (Water+Ice)'\n",
      "\t\tunits: 'g/kg'\n",
      "\tName: QP\n",
      "\t\tdimensions: ('time', 'z', 'y', 'x')\n",
      "\t\tsize: 1232000\n",
      "\t\ttype: dtype('float32')\n",
      "\t\tlong_name: 'Precipitating Water (Rain+Snow)'\n",
      "\t\tunits: 'g/kg'\n"
     ]
    }
   ],
   "source": [
    "with Dataset(a500.data_dir / 'tropical_subset.nc') as ncin:\n",
    "    ncdump(ncin)"
   ]
  },
  {
   "cell_type": "markdown",
   "metadata": {},
   "source": [
    "3\\.  Read a variable using the netCDF4 module:  http://unidata.github.io/netcdf4-python/"
   ]
  },
  {
   "cell_type": "code",
   "execution_count": 64,
   "metadata": {
    "lines_to_next_cell": 2
   },
   "outputs": [
    {
     "name": "stdout",
     "output_type": "stream",
     "text": [
      "['x', 'y', 'z', 'time', 'p', 'U', 'V', 'W', 'PP', 'TABS', 'QV', 'QN', 'QP']\n",
      "temp shape (39, 110, 100)\n",
      "height shape (39,)\n"
     ]
    }
   ],
   "source": [
    "with Dataset(a500.data_dir / 'tropical_subset.nc','r') as nc_in:\n",
    "    print(list(nc_in.variables.keys()))\n",
    "    the_height=nc_in.variables['z'][...]\n",
    "    hit = the_height < 2000.\n",
    "    zvals = the_height[hit]\n",
    "    xvals=nc_in.variables['x'][...]\n",
    "    yvals=nc_in.variables['y'][...]\n",
    "    the_temp=nc_in.variables['TABS'][0,hit,:,:]  \n",
    "    #\n",
    "    # remove the time dimension since we only have one timestep\n",
    "    #   \n",
    "    print('temp shape',the_temp.shape)\n",
    "    xvals=nc_in.variables['x'][...]\n",
    "    yvals=nc_in.variables['y'][...]\n",
    "    print('height shape',zvals.shape)\n",
    "    the_press=nc_in.variables['p'][hit]\n",
    "    the_press=the_press*100.  #convert to Pa\n",
    "    wvel=nc_in.variables['W'][0,hit,:,:]  #m/s\n",
    "    uvel=nc_in.variables['U'][0,hit,:,:]  #m/s\n",
    "    vvel=nc_in.variables['V'][0,hit,:,:]  #m/s\n",
    "    qv=nc_in.variables['QV'][0,hit,:,:]*g2kg  #vapor kg/kg\n",
    "    ql=nc_in.variables['QN'][0,hit,:,:]*g2kg  #liquid  kg/kg\n",
    "    pp = nc_in.variables['PP'][0,hit,:,:]  #Pressure perturbation (Pa)\n",
    "    theta = (calc_theta(the_temp.T,the_press)).T\n",
    "    thetav = calc_thetav(theta,qv,ql)"
   ]
  },
  {
   "cell_type": "markdown",
   "metadata": {},
   "source": [
    "## By default netCDF4 converts netcdf variables to masked arrays"
   ]
  },
  {
   "cell_type": "code",
   "execution_count": 7,
   "metadata": {},
   "outputs": [
    {
     "data": {
      "text/plain": [
       "(numpy.ma.core.MaskedArray,\n",
       " numpy.ma.core.MaskedArray,\n",
       " numpy.ma.core.MaskedArray)"
      ]
     },
     "execution_count": 7,
     "metadata": {},
     "output_type": "execute_result"
    }
   ],
   "source": [
    "type(ql), type(qv), type(wvel)"
   ]
  },
  {
   "cell_type": "markdown",
   "metadata": {},
   "source": [
    "See [the masked array docs](https://docs.scipy.org/doc/numpy/reference/maskedarray.generic.html)"
   ]
  },
  {
   "cell_type": "markdown",
   "metadata": {},
   "source": [
    "### How much liquid water is in the domain?"
   ]
  },
  {
   "cell_type": "code",
   "execution_count": 8,
   "metadata": {},
   "outputs": [
    {
     "data": {
      "image/png": "[encoded data removed]",
      "text/plain": [
       "<Figure size 432x288 with 1 Axes>"
      ]
     },
     "metadata": {
      "needs_background": "light"
     },
     "output_type": "display_data"
    }
   ],
   "source": [
    "bins=np.linspace(0.05,1.5,20)\n",
    "out=plt.hist(ql.compressed()*kg2g,bins=bins)\n",
    "plt.title('histogram of cloud lwc (g/kg)');"
   ]
  },
  {
   "cell_type": "markdown",
   "metadata": {},
   "source": [
    "# Calculate the temperature and vapor fluxes"
   ]
  },
  {
   "cell_type": "code",
   "execution_count": 30,
   "metadata": {},
   "outputs": [],
   "source": [
    "Rd=287  #J/kg/K\n",
    "g2kg = 1.e-3\n",
    "kg2g= 1.e3\n",
    "cpd=1004.\n",
    "lv = 2.5e6\n",
    "meter2km = 1.e-3\n",
    "qv_avg,qv_perturb=do_reynolds(qv)\n",
    "temp_avg,temp_perturb=do_reynolds(the_temp)\n",
    "rho_avg=the_press/(Rd*temp_avg)\n",
    "w_avg,w_perturb = do_reynolds(wvel)\n",
    "T_flux=((w_perturb*temp_perturb).T*rho_avg).T*cpd  #W/m^2\n",
    "qv_flux=((w_perturb*qv_perturb).T*rho_avg).T*lv #W/m^2\n",
    "T_flux_1d=(T_flux).mean(axis=2).mean(axis=1)\n",
    "qv_flux_1d=(qv_flux).mean(axis=2).mean(axis=1)"
   ]
  },
  {
   "cell_type": "code",
   "execution_count": 10,
   "metadata": {},
   "outputs": [
    {
     "data": {
      "image/png": "[encoded data removed]",
      "text/plain": [
       "<Figure size 720x432 with 2 Axes>"
      ]
     },
     "metadata": {
      "needs_background": "light"
     },
     "output_type": "display_data"
    }
   ],
   "source": [
    "fig,ax=plt.subplots(1,2,figsize=(10,6))\n",
    "ax[0].plot(T_flux_1d,zvals*meter2km)  \n",
    "ax[0].set(xlabel='sensible heat flux (W/m^2)',ylabel='height (km)',title='temperature flux')\n",
    "ax[1].plot(qv_flux_1d,zvals*meter2km)  \n",
    "out=ax[1].set(xlabel='latent heat flux (W/m^2)',ylabel='height (km)',title='vapor flux')\n",
    "out=[the_ax.set(ylim=(0,1.5)) for the_ax in ax]"
   ]
  },
  {
   "cell_type": "markdown",
   "metadata": {},
   "source": [
    "### As expected, vapor transport dominates the energy flux in the warm marine boundary layer"
   ]
  },
  {
   "cell_type": "markdown",
   "metadata": {},
   "source": [
    "## Now look at the individual budget terms"
   ]
  },
  {
   "cell_type": "code",
   "execution_count": 65,
   "metadata": {},
   "outputs": [],
   "source": [
    "theta = calc_theta(the_temp.T,the_press)\n",
    "theta = np.array(theta.T)\n",
    "keys=['u','v','w','pp','theta','qv','thetav']\n",
    "values = [uvel,vvel,wvel,pp,theta,qv,thetav]\n",
    "var_dict=dict(zip(keys,values))\n",
    "var_dict['p0']=the_press\n",
    "var_dict['z'] = zvals\n",
    "var_dict['x'] = xvals\n",
    "var_dict['y'] = yvals"
   ]
  },
  {
   "cell_type": "code",
   "execution_count": 12,
   "metadata": {},
   "outputs": [],
   "source": [
    "def save_reynolds(key,var):\n",
    "    \"\"\"\n",
    "    given a variable name (key), and the variable\n",
    "    make two new keys \"key_avg\" and \"key_pert\"\n",
    "    and return the reynolds average and perturbation\n",
    "    as a dictionary with those keys\n",
    "    \n",
    "    Parameters\n",
    "    ----------\n",
    "    \n",
    "    key: string\n",
    "       name of variable\n",
    "       \n",
    "    var: ndarray or masked array\n",
    "       data array\n",
    "    \"\"\"\n",
    "    new_keys=[f\"{key}_avg\",f\"{key}_pert\"]\n",
    "    avg, perturb = do_reynolds(var)\n",
    "    return dict(zip(new_keys,(avg,perturb)))"
   ]
  },
  {
   "cell_type": "markdown",
   "metadata": {},
   "source": [
    "## Save all this in a dictionary"
   ]
  },
  {
   "cell_type": "code",
   "execution_count": 66,
   "metadata": {},
   "outputs": [
    {
     "name": "stdout",
     "output_type": "stream",
     "text": [
      "dict_keys(['u', 'v', 'w', 'pp', 'theta', 'qv', 'thetav', 'p0', 'z', 'x', 'y', 'u_avg', 'u_pert', 'v_avg', 'v_pert', 'w_avg', 'w_pert', 'theta_avg', 'theta_pert', 'qv_avg', 'qv_pert', 'thetav_avg', 'thetav_pert', 'qv_pert_grams'])\n"
     ]
    }
   ],
   "source": [
    "keep_dict = copy.copy(var_dict)\n",
    "for key, value in var_dict.items():\n",
    "    #\n",
    "    # pressure perturbation already done\n",
    "    #\n",
    "    if key in ['pp','x','y','z','p0']:\n",
    "        continue\n",
    "    new_dict = save_reynolds(key, value)\n",
    "    keep_dict.update(new_dict)\n",
    "keep_dict['qv_pert_grams']=keep_dict['qv_pert']*1.e3\n",
    "print(keep_dict.keys())"
   ]
  },
  {
   "cell_type": "markdown",
   "metadata": {},
   "source": [
    "## check some values  \n",
    "\n",
    "loop through the dictionary and make some histograms"
   ]
  },
  {
   "cell_type": "code",
   "execution_count": 14,
   "metadata": {},
   "outputs": [],
   "source": [
    "def hist_prep(var):\n",
    "    \"\"\"\n",
    "    compress and unflatten arrays for histogramming\n",
    "    \"\"\"\n",
    "    try:\n",
    "        #\n",
    "        # masked array\n",
    "        #\n",
    "        var=var.compressed().flat\n",
    "    except AttributeError:\n",
    "        #\n",
    "        # regular ndarray\n",
    "        #\n",
    "        var = var.flat\n",
    "    return var\n",
    "    \n"
   ]
  },
  {
   "cell_type": "code",
   "execution_count": 49,
   "metadata": {},
   "outputs": [
    {
     "data": {
      "image/png": "[encoded data removed]",
      "text/plain": [
       "<Figure size 720x720 with 8 Axes>"
      ]
     },
     "metadata": {
      "needs_background": "light"
     },
     "output_type": "display_data"
    }
   ],
   "source": [
    "fig, axvec = plt.subplots(4,2,figsize=(10,10),constrained_layout=True)\n",
    "the_vars = ['u_pert', 'v_pert', 'w_pert', 'theta_pert','thetav_pert','qv_pert_grams','pp']\n",
    "axvec_flat = list(axvec.flat)\n",
    "for count,key in enumerate(the_vars):\n",
    "    var=hist_prep(keep_dict[key])\n",
    "    axvec_flat[count].hist(var)\n",
    "    axvec_flat[count].set_title(key)\n",
    "fig.delaxes(axvec_flat[-1])"
   ]
  },
  {
   "cell_type": "markdown",
   "metadata": {},
   "source": [
    "## Do a checkpoint save for all the variables"
   ]
  },
  {
   "cell_type": "code",
   "execution_count": 16,
   "metadata": {},
   "outputs": [],
   "source": [
    "the_file = a500.data_dir / 'tropical_vapor.npz'\n",
    "np.savez_compressed(the_file,**keep_dict)"
   ]
  },
  {
   "cell_type": "code",
   "execution_count": 17,
   "metadata": {},
   "outputs": [
    {
     "data": {
      "text/plain": [
       "['u',\n",
       " 'v',\n",
       " 'w',\n",
       " 'pp',\n",
       " 'theta',\n",
       " 'qv',\n",
       " 'thetav',\n",
       " 'p0',\n",
       " 'z',\n",
       " 'u_avg',\n",
       " 'u_pert',\n",
       " 'v_avg',\n",
       " 'v_pert',\n",
       " 'w_avg',\n",
       " 'w_pert',\n",
       " 'theta_avg',\n",
       " 'theta_pert',\n",
       " 'qv_avg',\n",
       " 'qv_pert',\n",
       " 'thetav_avg',\n",
       " 'thetav_pert']"
      ]
     },
     "execution_count": 17,
     "metadata": {},
     "output_type": "execute_result"
    }
   ],
   "source": [
    "list(keep_dict.keys())"
   ]
  },
  {
   "cell_type": "code",
   "execution_count": 18,
   "metadata": {},
   "outputs": [],
   "source": [
    "a=np.load(the_file)"
   ]
  },
  {
   "cell_type": "markdown",
   "metadata": {
    "lines_to_next_cell": 0
   },
   "source": [
    "\\begin{align}\n",
    "\\frac{\\partial(\\overline{q^{\\prime} u^\\prime_i})}{\\partial t}+\n",
    "\\underbrace{\\bar{U_{j}} \n",
    "\\frac{\\partial(\\overline{q^{\\prime} u^\\prime_{i}})}{\\partial x_{j}}}_{II}\n",
    "=-\\underbrace{\\overline{q^\\prime u^\\prime_j} \\frac{\\partial \\bar{U}_{i}}{\\partial x_{j}}}_{III}\n",
    "-\\underbrace{\\overline{u^\\prime_{i} u^\\prime_{j}} \\frac{\\partial \\bar{q}}{\\partial x_{j}}}_{XI}\n",
    "+ \\underbrace{\\frac{\\partial ( \\overline{ q^{\\prime} u^\\prime_j u^\\prime_i } ) }{\\partial x_j}}_{IV}\n",
    "\\end{align}\n",
    "\n",
    "%\n"
   ]
  },
  {
   "cell_type": "markdown",
   "metadata": {
    "lines_to_next_cell": 0
   },
   "source": [
    "\\begin{align}\n",
    "+\\underbrace{\\delta_{i 3}\\left( \\frac{\\overline{\\mathrm{q}^{\\prime} \\theta_{v}^{\\prime}}}{\\bar{\\theta}_{v}}\\right ) g}_V\n",
    "+ \\underbrace{f_c \\epsilon_{i j 3} \\left ( \\overline{u_j^\\prime q^\\prime} \\right )}_{VI}\n",
    "-  \\left ( \\frac{1}{\\bar{\\rho}}\\right )\n",
    "\\left [ \\underbrace { \\frac{ \\partial ( \\overline{p^\\prime q^\\prime} ) } {\\partial x_i}}_{VII} \n",
    "+ \\underbrace{ \\overline{ p^\\prime \\frac{\\partial q^\\prime}{\\partial x_i}} }_{VIII} \\right ]\n",
    "%\\right ] }\n",
    "\\end{align}"
   ]
  },
  {
   "cell_type": "markdown",
   "metadata": {},
   "source": [
    "\\begin{align}\n",
    "+\\underbrace{\\frac{v \\partial^{2}(\\overline{q^{\\prime} u^\\prime_i})}{\\partial x_{j}^{2}}}_{IX}\n",
    "-2 v \\overline { \\underbrace{\\left ( \\frac{\\partial u_i^\\prime }{ \\partial x_j} \\right ) \\left ( \\frac{\\partial q^\\prime} {\\partial x_j} \\right )}_{X} }\n",
    "\\end{align}"
   ]
  },
  {
   "cell_type": "markdown",
   "metadata": {},
   "source": [
    "## What are the rms perturbation profiles?"
   ]
  },
  {
   "cell_type": "code",
   "execution_count": 69,
   "metadata": {},
   "outputs": [
    {
     "data": {
      "image/png": "[encoded data removed]",
      "text/plain": [
       "<Figure size 720x720 with 8 Axes>"
      ]
     },
     "metadata": {
      "needs_background": "light"
     },
     "output_type": "display_data"
    }
   ],
   "source": [
    "def plot_pert(ax,keep_dict,key):\n",
    "    \"\"\"\n",
    "    make a quick horizontal rms vs. height plot of variable key in keep_dict\n",
    "    \n",
    "    Pararmeters\n",
    "    -----------\n",
    "    \n",
    "    ax: matplotlib axis\n",
    "    \n",
    "    keep_dict: dict\n",
    "      dictionary with variables\n",
    "        \n",
    "    key: string\n",
    "      name of variable to plot\n",
    "      \n",
    "    Returns\n",
    "    -------\n",
    "    \n",
    "    ax: matplotlib axis\n",
    "      same axis with plot\n",
    "    \"\"\"\n",
    "    the_var = (keep_dict[key]**2.).mean(axis=(1,2))\n",
    "    ax.plot(the_var**0.5,keep_dict['z'],'r-')\n",
    "    ax.set_title(key)\n",
    "    \n",
    "fig, axes = plt.subplots(4,2,figsize=(10,10),constrained_layout=True)\n",
    "flat_axes = list(axes.flat)\n",
    "for ax, varname in zip(flat_axes,the_vars):\n",
    "    plot_pert(ax,keep_dict,varname)\n",
    "fig.delaxes(flat_axes[-1])\n",
    "\n"
   ]
  },
  {
   "cell_type": "code",
   "execution_count": 50,
   "metadata": {},
   "outputs": [],
   "source": [
    "#help(axes[0,0].plot)"
   ]
  },
  {
   "cell_type": "markdown",
   "metadata": {},
   "source": [
    "## set scaling parameters q* and w* from rms values"
   ]
  },
  {
   "cell_type": "code",
   "execution_count": 57,
   "metadata": {},
   "outputs": [
    {
     "name": "stdout",
     "output_type": "stream",
     "text": [
      "wstar=0.21799643337726593\n",
      "qstar=0.16009835235308856\n",
      "term_scale = 5.0721767591468325e-09\n"
     ]
    }
   ],
   "source": [
    "#\n",
    "# take zi = 1500 m and find scaling variables\n",
    "#\n",
    "zi = 1500.\n",
    "hit = zvals < zi\n",
    "w_pert = (keep_dict['w_pert'][hit,:,:]**2.).mean(axis=(1,2))**0.5\n",
    "wstar = w_pert.mean()\n",
    "print(f\"wstar={wstar}\")\n",
    "q_pert = (keep_dict['qv_pert'][hit,:,:]**2.).mean(axis=(1,2))**0.5\n",
    "qstar = q_pert.mean()\n",
    "print(f\"qstar={qstar*kg2g}\")\n",
    "term_scale = wstar**2.*qstar/zi\n",
    "print(f\"term_scale = {term_scale}\")"
   ]
  },
  {
   "cell_type": "markdown",
   "metadata": {},
   "source": [
    "## Look at mean gradient terms in XI\n",
    "\n",
    "\\begin{equation*}\n",
    "\\underbrace{\\overline{u^\\prime_{i} u^\\prime_{j}} \\frac{\\partial \\bar{q}}{\\partial x_{j}}}_{XI}\n",
    "\\end{equation*}"
   ]
  },
  {
   "cell_type": "code",
   "execution_count": 68,
   "metadata": {},
   "outputs": [],
   "source": [
    "def do_partial(keep_dict,varname,axis_val):\n",
    "    \"\"\"\n",
    "    calculate partial deriv along axis_val using\n",
    "    simple differencing\n",
    "    \n",
    "    Paramteters\n",
    "    -----------\n",
    "    \n",
    "    keep_dict: dict\n",
    "       dictionary with variables\n",
    "       \n",
    "    varname: string\n",
    "       name of variable to differentiate\n",
    "       \n",
    "    axis_val: int\n",
    "       axis to di\n",
    "    \"\"\"\n",
    "    axis_dict={0:'x',1:'y',2:'z'}\n",
    "    the_var = keep_dict[varname]\n",
    "    numerator = np.diff(the_var,axis=axis_val)\n",
    "    coord_var = axis_dict[axis_val]\n",
    "    denominator = np.diff(keep_dict[coord_var])\n",
    "    return numerator/denominator\n",
    "    \n"
   ]
  },
  {
   "cell_type": "code",
   "execution_count": 73,
   "metadata": {},
   "outputs": [
    {
     "data": {
      "image/png": "[encoded data removed]",
      "text/plain": [
       "<Figure size 432x288 with 1 Axes>"
      ]
     },
     "metadata": {
      "needs_background": "light"
     },
     "output_type": "display_data"
    }
   ],
   "source": [
    "fig, ax = plt.subplots(1,1)\n",
    "ax.plot('qv_avg','z','b-',data=keep_dict)\n",
    "ax.set_title('average vertical qv profile');"
   ]
  },
  {
   "cell_type": "markdown",
   "metadata": {},
   "source": [
    "## Plot the three equations for term XI"
   ]
  },
  {
   "cell_type": "code",
   "execution_count": 87,
   "metadata": {},
   "outputs": [
    {
     "ename": "ValueError",
     "evalue": "operands could not be broadcast together with shapes (100,110,30) (29,) ",
     "output_type": "error",
     "traceback": [
      "\u001b[0;31m---------------------------------------------------------------------------\u001b[0m",
      "\u001b[0;31mValueError\u001b[0m                                Traceback (most recent call last)",
      "\u001b[0;32m<ipython-input-87-378b2807091b>\u001b[0m in \u001b[0;36m<module>\u001b[0;34m\u001b[0m\n\u001b[1;32m     16\u001b[0m \u001b[0;34m\u001b[0m\u001b[0m\n\u001b[1;32m     17\u001b[0m \u001b[0mhit\u001b[0m \u001b[0;34m=\u001b[0m \u001b[0mkeep_dict\u001b[0m\u001b[0;34m[\u001b[0m\u001b[0;34m'z'\u001b[0m\u001b[0;34m]\u001b[0m\u001b[0;34m<\u001b[0m \u001b[0;36m1500\u001b[0m\u001b[0;34m\u001b[0m\u001b[0;34m\u001b[0m\u001b[0m\n\u001b[0;32m---> 18\u001b[0;31m \u001b[0mw_flux\u001b[0m\u001b[0;34m,\u001b[0m \u001b[0mv_vlux\u001b[0m\u001b[0;34m,\u001b[0m \u001b[0muflux\u001b[0m \u001b[0;34m=\u001b[0m \u001b[0mdo_xi\u001b[0m\u001b[0;34m(\u001b[0m\u001b[0mkeep_dict\u001b[0m\u001b[0;34m,\u001b[0m\u001b[0mhit\u001b[0m\u001b[0;34m)\u001b[0m\u001b[0;34m\u001b[0m\u001b[0;34m\u001b[0m\u001b[0m\n\u001b[0m\u001b[1;32m     19\u001b[0m \u001b[0mz_coord\u001b[0m \u001b[0;34m=\u001b[0m \u001b[0mcalc_middle\u001b[0m\u001b[0;34m(\u001b[0m\u001b[0mkeep_dict\u001b[0m\u001b[0;34m[\u001b[0m\u001b[0;34m'z'\u001b[0m\u001b[0;34m]\u001b[0m\u001b[0;34m[\u001b[0m\u001b[0mhit\u001b[0m\u001b[0;34m]\u001b[0m\u001b[0;34m)\u001b[0m\u001b[0;34m\u001b[0m\u001b[0;34m\u001b[0m\u001b[0m\n\u001b[1;32m     20\u001b[0m \u001b[0mfig\u001b[0m\u001b[0;34m,\u001b[0m\u001b[0max\u001b[0m \u001b[0;34m=\u001b[0m \u001b[0mplt\u001b[0m\u001b[0;34m.\u001b[0m\u001b[0msubplots\u001b[0m\u001b[0;34m(\u001b[0m\u001b[0;36m1\u001b[0m\u001b[0;34m,\u001b[0m\u001b[0;36m1\u001b[0m\u001b[0;34m,\u001b[0m\u001b[0mfigsize\u001b[0m\u001b[0;34m=\u001b[0m\u001b[0;34m(\u001b[0m\u001b[0;36m10\u001b[0m\u001b[0;34m,\u001b[0m\u001b[0;36m10\u001b[0m\u001b[0;34m)\u001b[0m\u001b[0;34m)\u001b[0m\u001b[0;34m\u001b[0m\u001b[0;34m\u001b[0m\u001b[0m\n",
      "\u001b[0;32m<ipython-input-87-378b2807091b>\u001b[0m in \u001b[0;36mdo_xi\u001b[0;34m(keep_dict, hit)\u001b[0m\n\u001b[1;32m     10\u001b[0m     \u001b[0muperturb\u001b[0m \u001b[0;34m=\u001b[0m \u001b[0mkeep_dict\u001b[0m\u001b[0;34m[\u001b[0m\u001b[0;34m'u_pert'\u001b[0m\u001b[0;34m]\u001b[0m\u001b[0;34m[\u001b[0m\u001b[0mhit\u001b[0m\u001b[0;34m,\u001b[0m\u001b[0;34m:\u001b[0m\u001b[0;34m,\u001b[0m\u001b[0;34m:\u001b[0m\u001b[0;34m]\u001b[0m\u001b[0;34m\u001b[0m\u001b[0;34m\u001b[0m\u001b[0m\n\u001b[1;32m     11\u001b[0m     \u001b[0mvperturb\u001b[0m \u001b[0;34m=\u001b[0m \u001b[0mkeep_dict\u001b[0m\u001b[0;34m[\u001b[0m\u001b[0;34m'v_pert'\u001b[0m\u001b[0;34m]\u001b[0m\u001b[0;34m[\u001b[0m\u001b[0mhit\u001b[0m\u001b[0;34m,\u001b[0m\u001b[0;34m:\u001b[0m\u001b[0;34m,\u001b[0m\u001b[0;34m:\u001b[0m\u001b[0;34m]\u001b[0m\u001b[0;34m\u001b[0m\u001b[0;34m\u001b[0m\u001b[0m\n\u001b[0;32m---> 12\u001b[0;31m     \u001b[0mw_flux\u001b[0m \u001b[0;34m=\u001b[0m \u001b[0;34m(\u001b[0m\u001b[0mwperturb\u001b[0m\u001b[0;34m.\u001b[0m\u001b[0mT\u001b[0m\u001b[0;34m*\u001b[0m\u001b[0mwperturb\u001b[0m\u001b[0;34m.\u001b[0m\u001b[0mT\u001b[0m\u001b[0;34m*\u001b[0m\u001b[0mqvavg_grad\u001b[0m\u001b[0;34m)\u001b[0m\u001b[0;34m.\u001b[0m\u001b[0mmean\u001b[0m\u001b[0;34m(\u001b[0m\u001b[0maxis\u001b[0m\u001b[0;34m=\u001b[0m\u001b[0;34m(\u001b[0m\u001b[0;36m1\u001b[0m\u001b[0;34m,\u001b[0m\u001b[0;36m2\u001b[0m\u001b[0;34m)\u001b[0m\u001b[0;34m)\u001b[0m\u001b[0;34m\u001b[0m\u001b[0;34m\u001b[0m\u001b[0m\n\u001b[0m\u001b[1;32m     13\u001b[0m     \u001b[0mu_flux\u001b[0m \u001b[0;34m=\u001b[0m \u001b[0;34m(\u001b[0m\u001b[0muperturb\u001b[0m\u001b[0;34m.\u001b[0m\u001b[0mT\u001b[0m\u001b[0;34m*\u001b[0m\u001b[0mwperturb\u001b[0m\u001b[0;34m.\u001b[0m\u001b[0mT\u001b[0m\u001b[0;34m*\u001b[0m\u001b[0mqvavg_grad\u001b[0m\u001b[0;34m)\u001b[0m\u001b[0;34m.\u001b[0m\u001b[0mmean\u001b[0m\u001b[0;34m(\u001b[0m\u001b[0maxis\u001b[0m\u001b[0;34m=\u001b[0m\u001b[0;34m(\u001b[0m\u001b[0;36m1\u001b[0m\u001b[0;34m,\u001b[0m\u001b[0;36m2\u001b[0m\u001b[0;34m)\u001b[0m\u001b[0;34m)\u001b[0m\u001b[0;34m\u001b[0m\u001b[0;34m\u001b[0m\u001b[0m\n\u001b[1;32m     14\u001b[0m     \u001b[0mv_flux\u001b[0m \u001b[0;34m=\u001b[0m \u001b[0;34m(\u001b[0m\u001b[0mvperturb\u001b[0m\u001b[0;34m.\u001b[0m\u001b[0mT\u001b[0m\u001b[0;34m*\u001b[0m\u001b[0mwperturb\u001b[0m\u001b[0;34m.\u001b[0m\u001b[0mT\u001b[0m\u001b[0;34m*\u001b[0m\u001b[0mqvavg_grad\u001b[0m\u001b[0;34m)\u001b[0m\u001b[0;34m.\u001b[0m\u001b[0mmean\u001b[0m\u001b[0;34m(\u001b[0m\u001b[0maxis\u001b[0m\u001b[0;34m=\u001b[0m\u001b[0;34m(\u001b[0m\u001b[0;36m1\u001b[0m\u001b[0;34m,\u001b[0m\u001b[0;36m2\u001b[0m\u001b[0;34m)\u001b[0m\u001b[0;34m)\u001b[0m\u001b[0;34m\u001b[0m\u001b[0;34m\u001b[0m\u001b[0m\n",
      "\u001b[0;32m~/a50037/envs/a500try2/lib/python3.7/site-packages/numpy/ma/core.py\u001b[0m in \u001b[0;36m__mul__\u001b[0;34m(self, other)\u001b[0m\n\u001b[1;32m   4100\u001b[0m         \u001b[0;32mif\u001b[0m \u001b[0mself\u001b[0m\u001b[0;34m.\u001b[0m\u001b[0m_delegate_binop\u001b[0m\u001b[0;34m(\u001b[0m\u001b[0mother\u001b[0m\u001b[0;34m)\u001b[0m\u001b[0;34m:\u001b[0m\u001b[0;34m\u001b[0m\u001b[0;34m\u001b[0m\u001b[0m\n\u001b[1;32m   4101\u001b[0m             \u001b[0;32mreturn\u001b[0m \u001b[0mNotImplemented\u001b[0m\u001b[0;34m\u001b[0m\u001b[0;34m\u001b[0m\u001b[0m\n\u001b[0;32m-> 4102\u001b[0;31m         \u001b[0;32mreturn\u001b[0m \u001b[0mmultiply\u001b[0m\u001b[0;34m(\u001b[0m\u001b[0mself\u001b[0m\u001b[0;34m,\u001b[0m \u001b[0mother\u001b[0m\u001b[0;34m)\u001b[0m\u001b[0;34m\u001b[0m\u001b[0;34m\u001b[0m\u001b[0m\n\u001b[0m\u001b[1;32m   4103\u001b[0m \u001b[0;34m\u001b[0m\u001b[0m\n\u001b[1;32m   4104\u001b[0m     \u001b[0;32mdef\u001b[0m \u001b[0m__rmul__\u001b[0m\u001b[0;34m(\u001b[0m\u001b[0mself\u001b[0m\u001b[0;34m,\u001b[0m \u001b[0mother\u001b[0m\u001b[0;34m)\u001b[0m\u001b[0;34m:\u001b[0m\u001b[0;34m\u001b[0m\u001b[0;34m\u001b[0m\u001b[0m\n",
      "\u001b[0;32m~/a50037/envs/a500try2/lib/python3.7/site-packages/numpy/ma/core.py\u001b[0m in \u001b[0;36m__call__\u001b[0;34m(self, a, b, *args, **kwargs)\u001b[0m\n\u001b[1;32m   1013\u001b[0m         \u001b[0;32mwith\u001b[0m \u001b[0mnp\u001b[0m\u001b[0;34m.\u001b[0m\u001b[0merrstate\u001b[0m\u001b[0;34m(\u001b[0m\u001b[0;34m)\u001b[0m\u001b[0;34m:\u001b[0m\u001b[0;34m\u001b[0m\u001b[0;34m\u001b[0m\u001b[0m\n\u001b[1;32m   1014\u001b[0m             \u001b[0mnp\u001b[0m\u001b[0;34m.\u001b[0m\u001b[0mseterr\u001b[0m\u001b[0;34m(\u001b[0m\u001b[0mdivide\u001b[0m\u001b[0;34m=\u001b[0m\u001b[0;34m'ignore'\u001b[0m\u001b[0;34m,\u001b[0m \u001b[0minvalid\u001b[0m\u001b[0;34m=\u001b[0m\u001b[0;34m'ignore'\u001b[0m\u001b[0;34m)\u001b[0m\u001b[0;34m\u001b[0m\u001b[0;34m\u001b[0m\u001b[0m\n\u001b[0;32m-> 1015\u001b[0;31m             \u001b[0mresult\u001b[0m \u001b[0;34m=\u001b[0m \u001b[0mself\u001b[0m\u001b[0;34m.\u001b[0m\u001b[0mf\u001b[0m\u001b[0;34m(\u001b[0m\u001b[0mda\u001b[0m\u001b[0;34m,\u001b[0m \u001b[0mdb\u001b[0m\u001b[0;34m,\u001b[0m \u001b[0;34m*\u001b[0m\u001b[0margs\u001b[0m\u001b[0;34m,\u001b[0m \u001b[0;34m**\u001b[0m\u001b[0mkwargs\u001b[0m\u001b[0;34m)\u001b[0m\u001b[0;34m\u001b[0m\u001b[0;34m\u001b[0m\u001b[0m\n\u001b[0m\u001b[1;32m   1016\u001b[0m         \u001b[0;31m# Get the mask for the result\u001b[0m\u001b[0;34m\u001b[0m\u001b[0;34m\u001b[0m\u001b[0;34m\u001b[0m\u001b[0m\n\u001b[1;32m   1017\u001b[0m         \u001b[0;34m(\u001b[0m\u001b[0mma\u001b[0m\u001b[0;34m,\u001b[0m \u001b[0mmb\u001b[0m\u001b[0;34m)\u001b[0m \u001b[0;34m=\u001b[0m \u001b[0;34m(\u001b[0m\u001b[0mgetmask\u001b[0m\u001b[0;34m(\u001b[0m\u001b[0ma\u001b[0m\u001b[0;34m)\u001b[0m\u001b[0;34m,\u001b[0m \u001b[0mgetmask\u001b[0m\u001b[0;34m(\u001b[0m\u001b[0mb\u001b[0m\u001b[0;34m)\u001b[0m\u001b[0;34m)\u001b[0m\u001b[0;34m\u001b[0m\u001b[0;34m\u001b[0m\u001b[0m\n",
      "\u001b[0;31mValueError\u001b[0m: operands could not be broadcast together with shapes (100,110,30) (29,) "
     ]
    }
   ],
   "source": [
    "def calc_middle(vector):\n",
    "    middle = (vector[1:] + vector[:-1])/2.\n",
    "    return middle\n",
    "\n",
    "def do_xi(keep_dict,hit):\n",
    "    qv=keep_dict['qv_avg'][hit]\n",
    "    z=keep_dict['z'][hit]\n",
    "    qvavg_grad = np.diff(qv)/np.diff(qv)\n",
    "    wperturb = keep_dict['w_pert'][hit,:,:]\n",
    "    uperturb = keep_dict['u_pert'][hit,:,:]\n",
    "    vperturb = keep_dict['v_pert'][hit,:,:]\n",
    "    w_flux = (wperturb.T*wperturb.T*qvavg_grad).mean(axis=(1,2))\n",
    "    u_flux = (uperturb.T*wperturb.T*qvavg_grad).mean(axis=(1,2))\n",
    "    v_flux = (vperturb.T*wperturb.T*qvavg_grad).mean(axis=(1,2))\n",
    "    return w_flux, v_flux, u_flux\n",
    "\n",
    "hit = keep_dict['z']< 1500\n",
    "w_flux, v_vlux, uflux = do_xi(keep_dict,hit)\n",
    "z_coord = calc_middle(keep_dict['z'][hit])\n",
    "fig,ax = plt.subplots(1,1,figsize=(10,10))\n",
    "ax.plot(w_flux,z_coord)\n",
    "    "
   ]
  }
 ],
 "metadata": {
  "jupytext": {
   "cell_metadata_filter": "all",
   "notebook_metadata_filter": "all,-language_info",
   "text_representation": {
    "extension": ".py",
    "format_name": "percent",
    "format_version": "1.2",
    "jupytext_version": "1.2.3"
   }
  },
  "kernelspec": {
   "display_name": "Python 3",
   "language": "python",
   "name": "python3"
  },
  "language_info": {
   "codemirror_mode": {
    "name": "ipython",
    "version": 3
   },
   "file_extension": ".py",
   "mimetype": "text/x-python",
   "name": "python",
   "nbconvert_exporter": "python",
   "pygments_lexer": "ipython3",
   "version": "3.7.3"
  },
  "latex_envs": {
   "LaTeX_envs_menu_present": true,
   "autoclose": false,
   "autocomplete": true,
   "bibliofile": "biblio.bib",
   "cite_by": "apalike",
   "current_citInitial": 1,
   "eqLabelWithNumbers": true,
   "eqNumInitial": 1,
   "hotkeys": {
    "equation": "meta-9"
   },
   "labels_anchors": false,
   "latex_user_defs": false,
   "report_style_numbering": false,
   "user_envs_cfg": false
  },
  "latex_metadata": {
   "affiliation": "University of British Columbia",
   "author": "Philip Austin",
   "bib": "notebook.bib",
   "course": "ATSC 500",
   "title": "Vapor transport budget"
  },
  "toc": {
   "base_numbering": 1,
   "nav_menu": {},
   "number_sections": true,
   "sideBar": true,
   "skip_h1_title": true,
   "title_cell": "Table of Contents",
   "title_sidebar": "Contents",
   "toc_cell": true,
   "toc_position": {},
   "toc_section_display": "block",
   "toc_window_display": false
  }
 },
 "nbformat": 4,
 "nbformat_minor": 2
}
