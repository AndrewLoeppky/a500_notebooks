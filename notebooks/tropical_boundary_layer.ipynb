{
 "cells": [
  {
   "cell_type": "markdown",
   "metadata": {
    "toc": true
   },
   "source": [
    "<h1>Table of Contents<span class=\"tocSkip\"></span></h1>\n",
    "<div class=\"toc\" style=\"margin-top: 1em;\"><ul class=\"toc-item\"><li><span><a href=\"#Including-water-vapor-in-the-tropical-analysis\" data-toc-modified-id=\"Including-water-vapor-in-the-tropical-analysis-1\"><span class=\"toc-item-num\">1&nbsp;&nbsp;</span>Including water vapor in the tropical analysis</a></span><ul class=\"toc-item\"><li><span><a href=\"#Reading-a-netcdf-file\" data-toc-modified-id=\"Reading-a-netcdf-file-1.1\"><span class=\"toc-item-num\">1.1&nbsp;&nbsp;</span>Reading a netcdf file</a></span><ul class=\"toc-item\"><li><span><a href=\"#set-this-to-True-if-running-for-the-first-time\" data-toc-modified-id=\"set-this-to-True-if-running-for-the-first-time-1.1.1\"><span class=\"toc-item-num\">1.1.1&nbsp;&nbsp;</span>set this to True if running for the first time</a></span></li><li><span><a href=\"#How-much-liquid-water-is-in-the-domain?\" data-toc-modified-id=\"How-much-liquid-water-is-in-the-domain?-1.1.2\"><span class=\"toc-item-num\">1.1.2&nbsp;&nbsp;</span>How much liquid water is in the domain?</a></span></li></ul></li></ul></li><li><span><a href=\"#Plotting-three-$h_m$-profiles\" data-toc-modified-id=\"Plotting-three-$h_m$-profiles-2\"><span class=\"toc-item-num\">2&nbsp;&nbsp;</span>Plotting three $h_m$ profiles</a></span><ul class=\"toc-item\"><li><ul class=\"toc-item\"><li><span><a href=\"#moist-static-energy-(J/kg)\" data-toc-modified-id=\"moist-static-energy-(J/kg)-2.0.1\"><span class=\"toc-item-num\">2.0.1&nbsp;&nbsp;</span>moist static energy (J/kg)</a></span></li><li><span><a href=\"#zoom-in-on-bottom-1-km\" data-toc-modified-id=\"zoom-in-on-bottom-1-km-2.0.2\"><span class=\"toc-item-num\">2.0.2&nbsp;&nbsp;</span>zoom in on bottom 1 km</a></span></li></ul></li></ul></li><li><span><a href=\"#Calculate-the-temperature-and-vapor-fluxes\" data-toc-modified-id=\"Calculate-the-temperature-and-vapor-fluxes-3\"><span class=\"toc-item-num\">3&nbsp;&nbsp;</span>Calculate the temperature and vapor fluxes</a></span><ul class=\"toc-item\"><li><ul class=\"toc-item\"><li><span><a href=\"#As-expected,-vapor-transport-dominates-the-energy-flux-in-the-warm-marine-boundary-layer\" data-toc-modified-id=\"As-expected,-vapor-transport-dominates-the-energy-flux-in-the-warm-marine-boundary-layer-3.0.1\"><span class=\"toc-item-num\">3.0.1&nbsp;&nbsp;</span>As expected, vapor transport dominates the energy flux in the warm marine boundary layer</a></span></li><li><span><a href=\"#Closer-examination-of-fluxes-at-800-m\" data-toc-modified-id=\"Closer-examination-of-fluxes-at-800-m-3.0.2\"><span class=\"toc-item-num\">3.0.2&nbsp;&nbsp;</span>Closer examination of fluxes at 800 m</a></span></li><li><span><a href=\"#now-do-the-same-for-the-turbulent-fluxes-at-that-level-in-W/m^2\" data-toc-modified-id=\"now-do-the-same-for-the-turbulent-fluxes-at-that-level-in-W/m^2-3.0.3\"><span class=\"toc-item-num\">3.0.3&nbsp;&nbsp;</span>now do the same for the turbulent fluxes at that level in W/m^2</a></span></li><li><span><a href=\"#But-there-are-some-gridcells-with-huge-flux-values\" data-toc-modified-id=\"But-there-are-some-gridcells-with-huge-flux-values-3.0.4\"><span class=\"toc-item-num\">3.0.4&nbsp;&nbsp;</span>But there are some gridcells with huge flux values</a></span></li><li><span><a href=\"#So-what's-up-with-these-large-fluxes?\" data-toc-modified-id=\"So-what's-up-with-these-large-fluxes?-3.0.5\"><span class=\"toc-item-num\">3.0.5&nbsp;&nbsp;</span>So what's up with these large fluxes?</a></span></li><li><span><a href=\"#Conclusion:-these-large-fluxes-are-coming-from-cloudy-grid-cells-with-coherent-updrafts\" data-toc-modified-id=\"Conclusion:-these-large-fluxes-are-coming-from-cloudy-grid-cells-with-coherent-updrafts-3.0.6\"><span class=\"toc-item-num\">3.0.6&nbsp;&nbsp;</span>Conclusion: these large fluxes are coming from cloudy grid cells with coherent updrafts</a></span></li><li><span><a href=\"#Next:--joint-distributions\" data-toc-modified-id=\"Next:--joint-distributions-3.0.7\"><span class=\"toc-item-num\">3.0.7&nbsp;&nbsp;</span>Next:  joint distributions</a></span></li><li><span><a href=\"#Writing-our-own-histogram-routine\" data-toc-modified-id=\"Writing-our-own-histogram-routine-3.0.8\"><span class=\"toc-item-num\">3.0.8&nbsp;&nbsp;</span>Writing our own histogram routine</a></span></li><li><span><a href=\"#Now-redo-the-wvel,-T-scatterplot-as-a-2-d-histogram,-plotting-log10(counts)\" data-toc-modified-id=\"Now-redo-the-wvel,-T-scatterplot-as-a-2-d-histogram,-plotting-log10(counts)-3.0.9\"><span class=\"toc-item-num\">3.0.9&nbsp;&nbsp;</span>Now redo the wvel, T scatterplot as a 2-d histogram, plotting log10(counts)</a></span></li></ul></li></ul></li></ul></div>"
   ]
  },
  {
   "cell_type": "markdown",
   "metadata": {},
   "source": [
    "# Including water vapor in the tropical analysis"
   ]
  },
  {
   "cell_type": "markdown",
   "metadata": {},
   "source": [
    "1.  What do the fluxes of sensible and latent heat look like for the tropical case?\n",
    "\n",
    "1.  Drill down into the data using\n",
    "\n",
    "    a.  Two dimensional histograms\n",
    "    \n",
    "    b.  images with normalized color pallettes"
   ]
  },
  {
   "cell_type": "markdown",
   "metadata": {},
   "source": [
    "## Reading a netcdf file"
   ]
  },
  {
   "cell_type": "markdown",
   "metadata": {},
   "source": [
    "1.  Fetch the netcdf file tropical.nc from my webserver (50 Mbytes)"
   ]
  },
  {
   "cell_type": "code",
   "execution_count": 1,
   "metadata": {},
   "outputs": [],
   "source": [
    "import urllib.request\n",
    "import numpy as np\n",
    "from netCDF4 import Dataset\n",
    "from matplotlib import pyplot as plt\n",
    "from a500.utils.ncdump import ncdump"
   ]
  },
  {
   "cell_type": "markdown",
   "metadata": {},
   "source": [
    "Only download the data once -- set this to True if you need\n",
    "this file, otherwise skip"
   ]
  },
  {
   "cell_type": "markdown",
   "metadata": {},
   "source": [
    "data_download=False\n",
    "### set this to True if running for the first time\n",
    "if data_download:\n",
    "    urllib.request.urlretrieve(\"http://clouds.eos.ubc.ca/~phil/docs/atsc500/tropical_subset.nc\", \n",
    "                           \"tropical_subset.nc\")"
   ]
  },
  {
   "cell_type": "code",
   "execution_count": 7,
   "metadata": {},
   "outputs": [
    {
     "name": "stdout",
     "output_type": "stream",
     "text": [
      "trying http://clouds.eos.ubc.ca/~phil/docs/atsc500/tropical_subset.nc\n",
      "writing to: tropical_subset.nc\n",
      "\n",
      "tropical_subset.nc already exists\n",
      "and is 52116281 bytes\n",
      "will not overwrite\n",
      "\n"
     ]
    }
   ],
   "source": [
    "from a500.utils.data_read import download\n",
    "the_root = \"http://clouds.eos.ubc.ca/~phil/docs/atsc500\"\n",
    "the_file =  \"tropical_subset.nc\"\n",
    "out=download(the_file,root=the_root)"
   ]
  },
  {
   "cell_type": "code",
   "execution_count": 3,
   "metadata": {},
   "outputs": [],
   "source": [
    "def do_reynolds(array3d):\n",
    "    \"\"\"\n",
    "        do a spatial-mean reynolds average of a 3d field array3d\n",
    "        needs dimensions arranged as (z,y,x)\n",
    "        returns avg(z),perturb(z,y,x)\n",
    "    \"\"\"\n",
    "    avg=array3d.mean(axis=2).mean(axis=1)\n",
    "    perturb=array3d.T - avg\n",
    "    perturb=perturb.T\n",
    "    return avg,perturb"
   ]
  },
  {
   "cell_type": "markdown",
   "metadata": {},
   "source": [
    "2\\.  Identify the file structure using ncdump"
   ]
  },
  {
   "cell_type": "code",
   "execution_count": 4,
   "metadata": {},
   "outputs": [
    {
     "name": "stdout",
     "output_type": "stream",
     "text": [
      "netcdf tropical_subset {\r\n",
      "dimensions:\r\n",
      "\tx = 100 ;\r\n",
      "\ty = 110 ;\r\n",
      "\tz = UNLIMITED ; // (112 currently)\r\n",
      "\ttime = UNLIMITED ; // (1 currently)\r\n",
      "variables:\r\n",
      "\tfloat x(x) ;\r\n",
      "\t\tstring x:units = \"m\" ;\r\n",
      "\tfloat y(y) ;\r\n",
      "\t\tstring y:units = \"m\" ;\r\n",
      "\tfloat z(z) ;\r\n",
      "\t\tstring z:units = \"m\" ;\r\n",
      "\t\tstring z:long_name = \"height\" ;\r\n",
      "\tfloat time(time) ;\r\n",
      "\t\tstring time:units = \"d\" ;\r\n",
      "\t\tstring time:long_name = \"time\" ;\r\n",
      "\tfloat p(z) ;\r\n",
      "\t\tstring p:units = \"mb\" ;\r\n",
      "\t\tstring p:long_name = \"pressure\" ;\r\n",
      "\tfloat U(time, z, y, x) ;\r\n",
      "\t\tstring U:long_name = \"X Wind Component\" ;\r\n",
      "\t\tstring U:units = \"m/s\" ;\r\n",
      "\tfloat V(time, z, y, x) ;\r\n",
      "\t\tstring V:long_name = \"Y Wind Component\" ;\r\n",
      "\t\tstring V:units = \"m/s\" ;\r\n",
      "\tfloat W(time, z, y, x) ;\r\n",
      "\t\tstring W:long_name = \"Z Wind Component\" ;\r\n",
      "\t\tstring W:units = \"m/s\" ;\r\n",
      "\tfloat PP(time, z, y, x) ;\r\n",
      "\t\tstring PP:long_name = \"Pressure Perturbation\" ;\r\n",
      "\t\tstring PP:units = \"Pa\" ;\r\n",
      "\tfloat TABS(time, z, y, x) ;\r\n",
      "\t\tstring TABS:long_name = \"Absolute Temperature\" ;\r\n",
      "\t\tstring TABS:units = \"K\" ;\r\n",
      "\tfloat QV(time, z, y, x) ;\r\n",
      "\t\tstring QV:long_name = \"Water Vapor\" ;\r\n",
      "\t\tstring QV:units = \"g/kg\" ;\r\n",
      "\tfloat QN(time, z, y, x) ;\r\n",
      "\t\tstring QN:long_name = \"Non-precipitating Condensate (Water+Ice)\" ;\r\n",
      "\t\tstring QN:units = \"g/kg\" ;\r\n",
      "\tfloat QP(time, z, y, x) ;\r\n",
      "\t\tstring QP:long_name = \"Precipitating Water (Rain+Snow)\" ;\r\n",
      "\t\tstring QP:units = \"g/kg\" ;\r\n",
      "}\r\n"
     ]
    }
   ],
   "source": [
    "!ncdump -h tropical_subset.nc"
   ]
  },
  {
   "cell_type": "markdown",
   "metadata": {},
   "source": [
    "3\\.  Read a variable using the netCDF4 module:  http://unidata.github.io/netcdf4-python/"
   ]
  },
  {
   "cell_type": "code",
   "execution_count": 5,
   "metadata": {},
   "outputs": [
    {
     "name": "stdout",
     "output_type": "stream",
     "text": [
      "['x', 'y', 'z', 'time', 'p', 'U', 'V', 'W', 'PP', 'TABS', 'QV', 'QN', 'QP']\n",
      "temp shape (112, 110, 100)\n",
      "height shape (112,)\n"
     ]
    }
   ],
   "source": [
    "with Dataset('tropical_subset.nc','r') as nc_in:\n",
    "    print(list(nc_in.variables.keys()))\n",
    "    the_temp=nc_in.variables['TABS'][0,...]  \n",
    "    #\n",
    "    # remove the time dimension since we only have one timestep\n",
    "    #   \n",
    "    print('temp shape',the_temp.shape)\n",
    "    the_height=nc_in.variables['z'][...]\n",
    "    xvals=nc_in.variables['x'][...]\n",
    "    yvals=nc_in.variables['y'][...]\n",
    "    print('height shape',the_height.shape)\n",
    "    the_press=nc_in.variables['p'][...]\n",
    "    the_press=the_press*100.  #convert to Pa\n",
    "    wvel=nc_in.variables['W'][0,...]  #m/s\n",
    "    qv=nc_in.variables['QV'][0,...]  #vapor g/kg\n",
    "    ql=nc_in.variables['QN'][0,...]  #liquid  g/kg\n",
    "  "
   ]
  },
  {
   "cell_type": "markdown",
   "metadata": {},
   "source": [
    "## By default netCDF4 converts netcdf variables to masked arrays"
   ]
  },
  {
   "cell_type": "code",
   "execution_count": 9,
   "metadata": {},
   "outputs": [
    {
     "data": {
      "text/plain": [
       "(numpy.ma.core.MaskedArray,\n",
       " numpy.ma.core.MaskedArray,\n",
       " numpy.ma.core.MaskedArray)"
      ]
     },
     "execution_count": 9,
     "metadata": {},
     "output_type": "execute_result"
    }
   ],
   "source": [
    "type(ql), type(qv), type(wvel)"
   ]
  },
  {
   "cell_type": "markdown",
   "metadata": {},
   "source": [
    "See [the masked array docs](https://docs.scipy.org/doc/numpy/reference/maskedarray.generic.html)"
   ]
  },
  {
   "cell_type": "markdown",
   "metadata": {},
   "source": [
    "### How much liquid water is in the domain?"
   ]
  },
  {
   "cell_type": "code",
   "execution_count": 6,
   "metadata": {},
   "outputs": [
    {
     "ename": "TypeError",
     "evalue": "'<' not supported between instances of 'MaskedIterator' and 'float'",
     "output_type": "error",
     "traceback": [
      "\u001b[0;31m---------------------------------------------------------------------------\u001b[0m",
      "\u001b[0;31mTypeError\u001b[0m                                 Traceback (most recent call last)",
      "\u001b[0;32m<ipython-input-6-5fe36b0d9d91>\u001b[0m in \u001b[0;36m<module>\u001b[0;34m\u001b[0m\n\u001b[1;32m      1\u001b[0m \u001b[0mbins\u001b[0m\u001b[0;34m=\u001b[0m\u001b[0mnp\u001b[0m\u001b[0;34m.\u001b[0m\u001b[0mlinspace\u001b[0m\u001b[0;34m(\u001b[0m\u001b[0;36m0.05\u001b[0m\u001b[0;34m,\u001b[0m\u001b[0;36m1.5\u001b[0m\u001b[0;34m,\u001b[0m\u001b[0;36m20\u001b[0m\u001b[0;34m)\u001b[0m\u001b[0;34m\u001b[0m\u001b[0;34m\u001b[0m\u001b[0m\n\u001b[0;32m----> 2\u001b[0;31m \u001b[0mout\u001b[0m\u001b[0;34m=\u001b[0m\u001b[0mplt\u001b[0m\u001b[0;34m.\u001b[0m\u001b[0mhist\u001b[0m\u001b[0;34m(\u001b[0m\u001b[0mql\u001b[0m\u001b[0;34m.\u001b[0m\u001b[0mflat\u001b[0m\u001b[0;34m,\u001b[0m\u001b[0mbins\u001b[0m\u001b[0;34m=\u001b[0m\u001b[0mbins\u001b[0m\u001b[0;34m)\u001b[0m\u001b[0;34m\u001b[0m\u001b[0;34m\u001b[0m\u001b[0m\n\u001b[0m\u001b[1;32m      3\u001b[0m \u001b[0mplt\u001b[0m\u001b[0;34m.\u001b[0m\u001b[0mtitle\u001b[0m\u001b[0;34m(\u001b[0m\u001b[0;34m'histogram of cloud lwc (g/kg)'\u001b[0m\u001b[0;34m)\u001b[0m\u001b[0;34m\u001b[0m\u001b[0;34m\u001b[0m\u001b[0m\n",
      "\u001b[0;32m~/a50037/envs/a500test/lib/python3.7/site-packages/matplotlib/pyplot.py\u001b[0m in \u001b[0;36mhist\u001b[0;34m(x, bins, range, density, weights, cumulative, bottom, histtype, align, orientation, rwidth, log, color, label, stacked, normed, data, **kwargs)\u001b[0m\n\u001b[1;32m   2640\u001b[0m         \u001b[0malign\u001b[0m\u001b[0;34m=\u001b[0m\u001b[0malign\u001b[0m\u001b[0;34m,\u001b[0m \u001b[0morientation\u001b[0m\u001b[0;34m=\u001b[0m\u001b[0morientation\u001b[0m\u001b[0;34m,\u001b[0m \u001b[0mrwidth\u001b[0m\u001b[0;34m=\u001b[0m\u001b[0mrwidth\u001b[0m\u001b[0;34m,\u001b[0m \u001b[0mlog\u001b[0m\u001b[0;34m=\u001b[0m\u001b[0mlog\u001b[0m\u001b[0;34m,\u001b[0m\u001b[0;34m\u001b[0m\u001b[0;34m\u001b[0m\u001b[0m\n\u001b[1;32m   2641\u001b[0m         \u001b[0mcolor\u001b[0m\u001b[0;34m=\u001b[0m\u001b[0mcolor\u001b[0m\u001b[0;34m,\u001b[0m \u001b[0mlabel\u001b[0m\u001b[0;34m=\u001b[0m\u001b[0mlabel\u001b[0m\u001b[0;34m,\u001b[0m \u001b[0mstacked\u001b[0m\u001b[0;34m=\u001b[0m\u001b[0mstacked\u001b[0m\u001b[0;34m,\u001b[0m \u001b[0mnormed\u001b[0m\u001b[0;34m=\u001b[0m\u001b[0mnormed\u001b[0m\u001b[0;34m,\u001b[0m\u001b[0;34m\u001b[0m\u001b[0;34m\u001b[0m\u001b[0m\n\u001b[0;32m-> 2642\u001b[0;31m         **({\"data\": data} if data is not None else {}), **kwargs)\n\u001b[0m\u001b[1;32m   2643\u001b[0m \u001b[0;34m\u001b[0m\u001b[0m\n\u001b[1;32m   2644\u001b[0m \u001b[0;34m\u001b[0m\u001b[0m\n",
      "\u001b[0;32m~/a50037/envs/a500test/lib/python3.7/site-packages/matplotlib/__init__.py\u001b[0m in \u001b[0;36minner\u001b[0;34m(ax, data, *args, **kwargs)\u001b[0m\n\u001b[1;32m   1599\u001b[0m     \u001b[0;32mdef\u001b[0m \u001b[0minner\u001b[0m\u001b[0;34m(\u001b[0m\u001b[0max\u001b[0m\u001b[0;34m,\u001b[0m \u001b[0;34m*\u001b[0m\u001b[0margs\u001b[0m\u001b[0;34m,\u001b[0m \u001b[0mdata\u001b[0m\u001b[0;34m=\u001b[0m\u001b[0;32mNone\u001b[0m\u001b[0;34m,\u001b[0m \u001b[0;34m**\u001b[0m\u001b[0mkwargs\u001b[0m\u001b[0;34m)\u001b[0m\u001b[0;34m:\u001b[0m\u001b[0;34m\u001b[0m\u001b[0;34m\u001b[0m\u001b[0m\n\u001b[1;32m   1600\u001b[0m         \u001b[0;32mif\u001b[0m \u001b[0mdata\u001b[0m \u001b[0;32mis\u001b[0m \u001b[0;32mNone\u001b[0m\u001b[0;34m:\u001b[0m\u001b[0;34m\u001b[0m\u001b[0;34m\u001b[0m\u001b[0m\n\u001b[0;32m-> 1601\u001b[0;31m             \u001b[0;32mreturn\u001b[0m \u001b[0mfunc\u001b[0m\u001b[0;34m(\u001b[0m\u001b[0max\u001b[0m\u001b[0;34m,\u001b[0m \u001b[0;34m*\u001b[0m\u001b[0mmap\u001b[0m\u001b[0;34m(\u001b[0m\u001b[0msanitize_sequence\u001b[0m\u001b[0;34m,\u001b[0m \u001b[0margs\u001b[0m\u001b[0;34m)\u001b[0m\u001b[0;34m,\u001b[0m \u001b[0;34m**\u001b[0m\u001b[0mkwargs\u001b[0m\u001b[0;34m)\u001b[0m\u001b[0;34m\u001b[0m\u001b[0;34m\u001b[0m\u001b[0m\n\u001b[0m\u001b[1;32m   1602\u001b[0m \u001b[0;34m\u001b[0m\u001b[0m\n\u001b[1;32m   1603\u001b[0m         \u001b[0mbound\u001b[0m \u001b[0;34m=\u001b[0m \u001b[0mnew_sig\u001b[0m\u001b[0;34m.\u001b[0m\u001b[0mbind\u001b[0m\u001b[0;34m(\u001b[0m\u001b[0max\u001b[0m\u001b[0;34m,\u001b[0m \u001b[0;34m*\u001b[0m\u001b[0margs\u001b[0m\u001b[0;34m,\u001b[0m \u001b[0;34m**\u001b[0m\u001b[0mkwargs\u001b[0m\u001b[0;34m)\u001b[0m\u001b[0;34m\u001b[0m\u001b[0;34m\u001b[0m\u001b[0m\n",
      "\u001b[0;32m~/a50037/envs/a500test/lib/python3.7/site-packages/matplotlib/axes/_axes.py\u001b[0m in \u001b[0;36mhist\u001b[0;34m(self, x, bins, range, density, weights, cumulative, bottom, histtype, align, orientation, rwidth, log, color, label, stacked, normed, **kwargs)\u001b[0m\n\u001b[1;32m   6733\u001b[0m                     \u001b[0;31m# python's min/max ignore nan,\u001b[0m\u001b[0;34m\u001b[0m\u001b[0;34m\u001b[0m\u001b[0;34m\u001b[0m\u001b[0m\n\u001b[1;32m   6734\u001b[0m                     \u001b[0;31m# np.minnan returns nan for all nan input\u001b[0m\u001b[0;34m\u001b[0m\u001b[0;34m\u001b[0m\u001b[0;34m\u001b[0m\u001b[0m\n\u001b[0;32m-> 6735\u001b[0;31m                     \u001b[0mxmin\u001b[0m \u001b[0;34m=\u001b[0m \u001b[0mmin\u001b[0m\u001b[0;34m(\u001b[0m\u001b[0mxmin\u001b[0m\u001b[0;34m,\u001b[0m \u001b[0mnp\u001b[0m\u001b[0;34m.\u001b[0m\u001b[0mnanmin\u001b[0m\u001b[0;34m(\u001b[0m\u001b[0mxi\u001b[0m\u001b[0;34m)\u001b[0m\u001b[0;34m)\u001b[0m\u001b[0;34m\u001b[0m\u001b[0;34m\u001b[0m\u001b[0m\n\u001b[0m\u001b[1;32m   6736\u001b[0m                     \u001b[0mxmax\u001b[0m \u001b[0;34m=\u001b[0m \u001b[0mmax\u001b[0m\u001b[0;34m(\u001b[0m\u001b[0mxmax\u001b[0m\u001b[0;34m,\u001b[0m \u001b[0mnp\u001b[0m\u001b[0;34m.\u001b[0m\u001b[0mnanmax\u001b[0m\u001b[0;34m(\u001b[0m\u001b[0mxi\u001b[0m\u001b[0;34m)\u001b[0m\u001b[0;34m)\u001b[0m\u001b[0;34m\u001b[0m\u001b[0;34m\u001b[0m\u001b[0m\n\u001b[1;32m   6737\u001b[0m             \u001b[0;31m# make sure we have seen at least one non-nan and finite\u001b[0m\u001b[0;34m\u001b[0m\u001b[0;34m\u001b[0m\u001b[0;34m\u001b[0m\u001b[0m\n",
      "\u001b[0;31mTypeError\u001b[0m: '<' not supported between instances of 'MaskedIterator' and 'float'"
     ]
    },
    {
     "data": {
      "image/png": "[encoded data removed]",
      "text/plain": [
       "<Figure size 432x288 with 1 Axes>"
      ]
     },
     "metadata": {
      "needs_background": "light"
     },
     "output_type": "display_data"
    }
   ],
   "source": [
    "bins=np.linspace(0.05,1.5,20)\n",
    "out=plt.hist(ql.flat,bins=bins)\n",
    "plt.title('histogram of cloud lwc (g/kg)')"
   ]
  },
  {
   "cell_type": "markdown",
   "metadata": {},
   "source": [
    "# Plotting three $h_m$ profiles"
   ]
  },
  {
   "cell_type": "markdown",
   "metadata": {},
   "source": [
    "What does $h_m = c_p T + l_v q_v + gz$ look like in the boundary layer?"
   ]
  },
  {
   "cell_type": "code",
   "execution_count": null,
   "metadata": {},
   "outputs": [],
   "source": [
    "%matplotlib inline\n",
    "plt.style.use('ggplot')\n",
    "#\n",
    "# plot 3 arbitrary columns\n",
    "#\n",
    "from matplotlib import pyplot as plt\n",
    "import matplotlib\n",
    "meter2km=1.e-3\n",
    "random_xy=[(10,20),(80,40),(25,75)]\n",
    "fig,ax=plt.subplots(1,2,figsize=(10,6))\n",
    "for x,y in random_xy:\n",
    "    temp_profile=the_temp[:,y, x]\n",
    "    qv_profile=qv[:,y, x]\n",
    "    out=ax[0].plot(temp_profile,the_height*meter2km) \n",
    "    out=ax[1].plot(qv_profile,the_height*meter2km) \n",
    "out=ax[0].set(xlabel='temperature (K)',ylabel='height (km)',title='temperature (K)')\n",
    "out=ax[1].set(xlabel='vapor mixing ratio (g/kg)',ylabel='height (km)',title='vapor mixing ratio')"
   ]
  },
  {
   "cell_type": "markdown",
   "metadata": {},
   "source": [
    "### moist static energy (J/kg)"
   ]
  },
  {
   "cell_type": "code",
   "execution_count": null,
   "metadata": {},
   "outputs": [],
   "source": [
    "%matplotlib inline\n",
    "#\n",
    "# plot 3 arbitrary columns\n",
    "#\n",
    "from matplotlib import pyplot as plt\n",
    "meter2km=1.e-3\n",
    "lv=2.5e6\n",
    "g=9.8\n",
    "cpd=1004.\n",
    "g2kg=1.e-3\n",
    "random_xy=[(10,20),(80,40),(25,75)]\n",
    "fig,ax=plt.subplots(1,3,figsize=(16,6))\n",
    "for x,y in random_xy:\n",
    "    temp_profile=the_temp[:,y, x]\n",
    "    qv_profile=qv[:,y, x]\n",
    "    hm_profile = cpd*temp_profile + lv*qv_profile*1.e-3 + g*the_height\n",
    "    out=ax[0].plot(temp_profile,the_height*meter2km) \n",
    "    out=ax[1].plot(qv_profile,the_height*meter2km) \n",
    "    out=ax[2].plot(hm_profile*1.e-6,the_height*meter2km) \n",
    "out=ax[0].set(xlabel='temperature (K)',ylabel='height (km)',title='temperature')\n",
    "out=ax[1].set(xlabel='vapor mixing ratio (g/kg)',ylabel='height (km)',title='vapor')\n",
    "out=ax[2].set(xlabel='moist static energy(J/kg)',ylabel='height (km)',title='$h_m$')"
   ]
  },
  {
   "cell_type": "markdown",
   "metadata": {},
   "source": [
    "### zoom in on bottom 1 km"
   ]
  },
  {
   "cell_type": "code",
   "execution_count": null,
   "metadata": {
    "scrolled": true
   },
   "outputs": [],
   "source": [
    "%matplotlib inline\n",
    "#\n",
    "# plot 3 arbitrary columns\n",
    "#\n",
    "from matplotlib import pyplot as plt\n",
    "meter2km=1.e-3\n",
    "lv=2.5e6\n",
    "g=9.8\n",
    "cpd=1004.\n",
    "random_xy=[(10,20),(80,40),(25,75)]\n",
    "fig,ax=plt.subplots(1,3,figsize=(16,6))\n",
    "for x,y in random_xy:\n",
    "    temp_profile=the_temp[:,y, x]\n",
    "    qv_profile=qv[:,y, x]\n",
    "    hm_profile = cpd*temp_profile + lv*qv_profile*1.e-3 + g*the_height\n",
    "    out=ax[0].plot(temp_profile,the_height*meter2km) \n",
    "    out=ax[1].plot(qv_profile,the_height*meter2km) \n",
    "    out=ax[2].plot(hm_profile*1.e-6,the_height*meter2km) \n",
    "out=ax[0].set(xlabel='temperature (K)',ylabel='height (km)',title='temperature')\n",
    "ax[0].set(xlim=(290,300))\n",
    "ax[1].set(xlim=(16,18))\n",
    "ax[2].set(xlim=(0.342,0.344))\n",
    "out=ax[1].set(xlabel='vapor mixing ratio (g/kg)',ylabel='height (km)',title='water vapor')\n",
    "out=ax[2].set(xlabel='moist static energy(J/kg)',ylabel='height (km)',title='$h_m$')\n",
    "for the_ax in ax:\n",
    "    the_ax.set(ylim=(0,0.7))"
   ]
  },
  {
   "cell_type": "markdown",
   "metadata": {},
   "source": [
    "# Calculate the temperature and vapor fluxes"
   ]
  },
  {
   "cell_type": "code",
   "execution_count": null,
   "metadata": {},
   "outputs": [],
   "source": [
    "Rd=287  #J/kg/K\n",
    "g2kg = 1.e-3\n",
    "qv_avg,qv_perturb=do_reynolds(qv)\n",
    "temp_avg,temp_perturb=do_reynolds(the_temp)\n",
    "rho_avg=the_press/(Rd*temp_avg)\n",
    "w_avg,w_perturb = do_reynolds(wvel)\n",
    "T_flux=((w_perturb*temp_perturb).T*rho_avg).T*cpd  #W/m^2\n",
    "qv_flux=((w_perturb*qv_perturb).T*rho_avg).T*lv*g2kg #W/m^2\n",
    "T_flux_1d=(T_flux).mean(axis=2).mean(axis=1)\n",
    "qv_flux_1d=(qv_flux).mean(axis=2).mean(axis=1)"
   ]
  },
  {
   "cell_type": "code",
   "execution_count": null,
   "metadata": {},
   "outputs": [],
   "source": [
    "fig,ax=plt.subplots(1,2,figsize=(10,6))\n",
    "ax[0].plot(T_flux_1d,the_height*meter2km)  \n",
    "ax[0].set(xlabel='sensible heat flux (W/m^2)',ylabel='height (km)',title='temperature flux')\n",
    "ax[1].plot(qv_flux_1d,the_height*meter2km)  \n",
    "out=ax[1].set(xlabel='latent heat flux (W/m^2)',ylabel='height (km)',title='vapor flux')\n",
    "out=[the_ax.set(ylim=(0,1.5)) for the_ax in ax]"
   ]
  },
  {
   "cell_type": "markdown",
   "metadata": {},
   "source": [
    "### As expected, vapor transport dominates the energy flux in the warm marine boundary layer"
   ]
  },
  {
   "cell_type": "markdown",
   "metadata": {},
   "source": [
    "### Closer examination of fluxes at 800 m\n",
    "\n",
    "1\\.  Look at simple histograms at one level"
   ]
  },
  {
   "cell_type": "code",
   "execution_count": null,
   "metadata": {
    "scrolled": true
   },
   "outputs": [],
   "source": [
    "#\n",
    "# select the level closest to 800 meters\n",
    "# using searchsorted\n",
    "#\n",
    "zlev=np.searchsorted(the_height,800)\n",
    "ql_800 = ql[zlev,:,:] == 0.\n",
    "T_flux_800 = T_flux[zlev,:,:] #W/m^2\n",
    "qv_flux_800 = qv_flux[zlev,:,:] #W/m^2\n",
    "fig,ax = plt.subplots(1,2,figsize=(16,8))\n",
    "out=ax[0].hist(T_flux_800.flat,bins=np.linspace(-60,60,50))\n",
    "out=ax[1].hist(qv_flux_800.flat,bins=np.linspace(-120,200,50))\n",
    "ax[0].set(title='sensible heat flux at 800 m (W/m^2)')\n",
    "ax[1].set(title='latent heat flux at 800 m (W/m^2)')"
   ]
  },
  {
   "cell_type": "markdown",
   "metadata": {},
   "source": [
    "### now do the same for the turbulent fluxes at that level in W/m^2"
   ]
  },
  {
   "cell_type": "code",
   "execution_count": null,
   "metadata": {},
   "outputs": [],
   "source": [
    "wpert_800=w_perturb[zlev,...]\n",
    "Tpert_800=temp_perturb[zlev,...]\n",
    "qvpert_800 = qv_perturb[zlev,...]\n",
    "T_flux800=((wpert_800*Tpert_800)*rho_avg[zlev])*cpd  #W/m^2\n",
    "qv_flux800=((wpert_800*qvpert_800)*rho_avg[zlev])*lv*g2kg #W/m^2\n",
    "print(T_flux800.mean())\n",
    "print(qv_flux800.mean())\n",
    "fig,ax=plt.subplots(1,2,figsize=(16,8))\n",
    "out=ax[0].hist(qv_flux800.flat,bins=np.linspace(-100,100,100))\n",
    "out=ax[1].hist(T_flux800.flat,bins=np.linspace(-100,100,100))\n",
    "[item.set(ylabel='count') for item in ax]\n",
    "ax[0].set(xlabel='vapor flux (W/m^2) at 800 m')\n",
    "ax[1].set(xlabel='temperature flux (W/m^2) at 800 m')"
   ]
  },
  {
   "cell_type": "markdown",
   "metadata": {},
   "source": [
    "###  But there are some gridcells with huge flux values\n",
    "\n",
    "Here's what happens when I don't limit the flux ranges"
   ]
  },
  {
   "cell_type": "code",
   "execution_count": null,
   "metadata": {},
   "outputs": [],
   "source": [
    "fig,ax=plt.subplots(1,1)\n",
    "ax.scatter(qv_flux800.flat,T_flux800.flat)\n",
    "ax.set(xlabel=r'latent heat flux (W/m^2)',ylabel=r'sensible heat flux (W m^2)')"
   ]
  },
  {
   "cell_type": "markdown",
   "metadata": {},
   "source": [
    "### So what's up with these large fluxes?\n",
    "\n",
    "The next cell demonstrates how to use logical indexing to find specific datapoints.  See\n",
    "the [numpy documentation](http://docs.scipy.org/doc/numpy/reference/routines.logic.html)\n",
    "for the full list of operators.  \n",
    "\n",
    "Below, I use np.where to get a list of y,x indices where both fluxes are\n",
    "bigger than 1000 W/m^2.  Then I zip them together into a list of pairs using\n",
    "[argument list unpacking](https://docs.python.org/3.4/tutorial/controlflow.html#unpacking-argument-lists)  (also called 'splatting').  The '*' character changes a tuple like\n",
    "a=(1,2,3) into individual arguments in a function call, so that\n",
    "\n",
    "myfun(*a)\n",
    "\n",
    "becomes\n",
    "\n",
    "myfun(1,2,3)\n",
    "\n",
    "and in the same way you can unpack dictionaries into keyword=value with '**':\n",
    "\n",
    "```python\n",
    "args={'one':1,'two':None}\n",
    "myfun(**args)\n",
    "\n",
    "becomes\n",
    "\n",
    "myfun(one=1,two=None)\n",
    "```"
   ]
  },
  {
   "cell_type": "code",
   "execution_count": null,
   "metadata": {},
   "outputs": [],
   "source": [
    "out=np.where(np.logical_and(qv_flux800 > 1000., T_flux800 > 1000))\n",
    "#\n",
    "#  unpack out into two individual lists and zip, then turn back\n",
    "#  into a list\n",
    "#\n",
    "flux_list=list(zip(*out))\n",
    "for item in flux_list:\n",
    "    print(item)"
   ]
  },
  {
   "cell_type": "code",
   "execution_count": null,
   "metadata": {
    "scrolled": true
   },
   "outputs": [],
   "source": [
    "fig,ax=plt.subplots(1,4,figsize=(18,8))\n",
    "for y,x in flux_list:\n",
    "    ax[0].plot(the_temp[:,y,x],the_height)\n",
    "    ax[1].plot(qv[:,y,x],the_height)\n",
    "    ax[2].plot(wvel[:,y,x],the_height)\n",
    "    ax[3].plot(ql[:,y,x],the_height)\n",
    "ax[0].set(xlim=(290,300),xlabel='TABS (K)',title='temperature')\n",
    "ax[1].set(xlim=(12,18),xlabel='qv (g/kg)',title='vapor mixing ratio')\n",
    "ax[2].set(xlim=(-1,4),xlabel='wvel (m/s)',title='vertical velocity')\n",
    "ax[3].set(xlim=(0,1.5),xlabel='ql (g/kg)',title='liquid water content')\n",
    "out=[the_ax.set(ylim=(0,1200)) for the_ax in ax]"
   ]
  },
  {
   "cell_type": "markdown",
   "metadata": {},
   "source": [
    "###  Conclusion: these large fluxes are coming from cloudy grid cells with coherent updrafts\n",
    "\n",
    "They can't really be treated by Reynold's averaging.  We'll look at this in more detail later in the course"
   ]
  },
  {
   "cell_type": "markdown",
   "metadata": {},
   "source": [
    "### Next:  joint distributions\n",
    "\n",
    "We'll need to look at correlations between variables. One way to do that is with multi-dimensional histograms.  There is a plotting package called seaborn that can do this\n",
    "for you:\n",
    "\n",
    "```python\n",
    "   conda install seaborn\n",
    "   \n",
    "```\n",
    "\n",
    "Below we use seaborn.jointplot to print a fancy 2d histogram for the joint\n",
    "distribution of the vapor and temperture fluxes"
   ]
  },
  {
   "cell_type": "code",
   "execution_count": null,
   "metadata": {},
   "outputs": [],
   "source": [
    "import seaborn as sns\n",
    "#\n",
    "#  limit the range f the data to be plotted\n",
    "#\n",
    "hit=((qv_flux800 > -100) & (qv_flux800 < 100)) &( (T_flux800 > -50) & (T_flux800 < 50))\n",
    "g=sns.jointplot(x=qv_flux800[hit].flat,y=T_flux800[hit].flat,kind='kde',color='blue')\n",
    "ax=g.ax_joint\n",
    "ax.set(xlabel='vapor flux',ylabel='temperature flux')"
   ]
  },
  {
   "cell_type": "markdown",
   "metadata": {},
   "source": [
    "For the above plot, note the wider range for the vapor flux, and the negative correlation\n",
    "between temperature and vapor"
   ]
  },
  {
   "cell_type": "markdown",
   "metadata": {},
   "source": [
    "### Writing our own histogram routine\n",
    "\n",
    "There are a lot of cases where it's useful to roll our own histograms.  For example,\n",
    "here's a $w^\\prime$  $T^\\prime$ plot with a lot of points"
   ]
  },
  {
   "cell_type": "code",
   "execution_count": null,
   "metadata": {
    "scrolled": true
   },
   "outputs": [],
   "source": [
    "fig,ax=plt.subplots(1,1)\n",
    "ax.scatter(w_perturb,temp_perturb)\n",
    "ax.set(xlabel=r'$w^\\prime\\ (m/s)$',ylabel=r'$T^\\prime\\ (K)$')"
   ]
  },
  {
   "cell_type": "markdown",
   "metadata": {},
   "source": [
    "Now histogram this by doing the following using the code (installation covered in class)\n",
    "\n",
    "pull from github, which will bring in\n",
    "\n",
    "[hist_numba.py](https://github.com/phaustin/atsc500/blob/master/a500_code/hist_numba.py)\n",
    "\n",
    "To install this, cd to atsc500 and do:\n",
    "\n",
    "```python\n",
    "pip install -e .\n",
    "```\n",
    "\n",
    "To make it work, you will also need to do:\n",
    "\n",
    "```python\n",
    "conda install numba\n",
    "```\n",
    "\n",
    "which installs the numba jit ('just in time') compiler, that can produce code speedups of a factor of several hundred if we stick to a basic subset of \n",
    "[python](http://numba.pydata.org/numba-doc/0.21.0/reference/pysupported.html) and \n",
    "[numpy](http://numba.pydata.org/numba-doc/0.21.0/reference/numpysupported.html) features.\n",
    "\n",
    "Numba is used [here](https://github.com/phaustin/atsc500/blob/master/a500/utils/hist_numba.py#L6-L38) to speed up the loop that counts the number of datapoints in\n",
    "each 2-d bin\n"
   ]
  },
  {
   "cell_type": "code",
   "execution_count": null,
   "metadata": {},
   "outputs": [],
   "source": [
    "from a500.utils.hist_numba import hist2d\n",
    "print(help(hist2d))"
   ]
  },
  {
   "cell_type": "markdown",
   "metadata": {},
   "source": [
    "### Now redo the wvel, T scatterplot as a 2-d histogram, plotting log10(counts)"
   ]
  },
  {
   "cell_type": "code",
   "execution_count": null,
   "metadata": {},
   "outputs": [],
   "source": [
    "\n",
    "#\n",
    "from matplotlib.colors import Normalize\n",
    "\n",
    "wedges=np.linspace(-2,5,100)\n",
    "Tedges=np.linspace(-1,1,50)\n",
    "counts,row_centers,col_centers=hist2d(w_perturb.ravel(), \n",
    "                                       temp_perturb.ravel(),wedges,Tedges)\n",
    "mask=np.isnan(counts)\n",
    "counts=np.ma.array(counts,mask=mask)\n",
    "fig,ax=plt.subplots(1,1,figsize=(8,6))\n",
    "#\n",
    "# we want to map 256 colors from the coolwarm palette  into the\n",
    "# data range log10(counts) = 1 to log10(counts) = 5  (i.e. 10 to 100,000)\n",
    "#\n",
    "#  we also want to color empty bins grey, and show all bins that aren't empty\n",
    "#  but fall outside of the range as either black (less than 10 counts) or magenta\n",
    "#  (more than 100,000) counts\n",
    "#\n",
    "cmap=plt.get_cmap('coolwarm')\n",
    "cmap.set_under('black')\n",
    "cmap.set_over('magenta')\n",
    "cmap.set_bad('0.65')\n",
    "the_norm=Normalize(vmin=1,vmax=5)\n",
    "cs=ax.pcolormesh(row_centers,col_centers,np.log10(counts),cmap=cmap,norm=the_norm)\n",
    "ax.set(xlabel='w perturbation (m/s)',ylabel='T perturbation (m/s)',\n",
    "       title='2-d histogram of w pertub vs. T perturb')\n",
    "cbar=fig.colorbar(cs,shrink=0.9,extend='both')\n",
    "cbar.ax.set(ylabel='log10(counts)')"
   ]
  },
  {
   "cell_type": "code",
   "execution_count": null,
   "metadata": {},
   "outputs": [],
   "source": [
    "#\n",
    "#  Make a color imaged with a scaled colormap\n",
    "#\n",
    "from matplotlib.colors import Normalize\n",
    "#\n",
    "# also get the cloud liquid water field at the same level\n",
    "#\n",
    "ql_800=ql[zlev,:,:]*lv*rho_avg[zlev]  #g/kg\n",
    "# center the colorbar about 0\n",
    "#\n",
    "the_norm=Normalize(vmin=-100,vmax=100)\n",
    "\n",
    "cmap=plt.get_cmap('coolwarm')\n",
    "cmap.set_under('black')\n",
    "cmap.set_over('magenta')\n",
    "cmap.set_bad('0.75')\n",
    "fig,ax=plt.subplots(1,2,figsize=(16,8))\n",
    "cs=ax[0].pcolormesh(xvals*1.e-3,yvals*1.e-3,T_flux_800,cmap=cmap,norm=the_norm)\n",
    "ax[0].set(ylim=(40,51),xlabel='distance east (km)',ylabel='distance north (km)',\n",
    "          title='sensible heat flux at 800 m')\n",
    "cbar=fig.colorbar(cs,shrink=0.9,extend='both')\n",
    "out=cbar.ax.set(ylabel='T_flux ($W/m^2$)')\n",
    "out[0].set(rotation=-90,va='bottom')\n",
    "#\n",
    "#  hide pixels with no liquid water\n",
    "#\n",
    "hit=ql_800 < 1.e-2\n",
    "T_flux_masked=np.ma.array(T_flux_800,mask=hit)\n",
    "cs=ax[1].pcolormesh(xvals*1.e-3,yvals*1.e-3,T_flux_masked,cmap=cmap,norm=the_norm)\n",
    "ax[1].set(ylim=(40,51),title='sensible heat flux in cloud',xlabel='distance east (km)')"
   ]
  },
  {
   "cell_type": "code",
   "execution_count": null,
   "metadata": {},
   "outputs": [],
   "source": []
  }
 ],
 "metadata": {
  "jupytext": {
   "cell_metadata_filter": "all",
   "notebook_metadata_filter": "all,-language_info"
  },
  "kernelspec": {
   "display_name": "Python 3",
   "language": "python",
   "name": "python3"
  },
  "language_info": {
   "codemirror_mode": {
    "name": "ipython",
    "version": 3
   },
   "file_extension": ".py",
   "mimetype": "text/x-python",
   "name": "python",
   "nbconvert_exporter": "python",
   "pygments_lexer": "ipython3",
   "version": "3.7.3"
  },
  "toc": {
   "nav_menu": {},
   "number_sections": true,
   "sideBar": false,
   "skip_h1_title": false,
   "toc_cell": true,
   "toc_position": {},
   "toc_section_display": "block",
   "toc_window_display": false
  }
 },
 "nbformat": 4,
 "nbformat_minor": 1
}
