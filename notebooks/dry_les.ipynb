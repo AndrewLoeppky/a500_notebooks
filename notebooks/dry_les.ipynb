{
 "cells": [
  {
   "cell_type": "markdown",
   "metadata": {
    "toc": true
   },
   "source": [
    "<h1>Table of Contents<span class=\"tocSkip\"></span></h1>\n",
    "<div class=\"toc\"><ul class=\"toc-item\"><li><span><a href=\"#setup\" data-toc-modified-id=\"setup-1\"><span class=\"toc-item-num\">1&nbsp;&nbsp;</span>setup</a></span></li><li><span><a href=\"#Introduction\" data-toc-modified-id=\"Introduction-2\"><span class=\"toc-item-num\">2&nbsp;&nbsp;</span>Introduction</a></span><ul class=\"toc-item\"><li><span><a href=\"#The-Dry-LES-dataset\" data-toc-modified-id=\"The-Dry-LES-dataset-2.1\"><span class=\"toc-item-num\">2.1&nbsp;&nbsp;</span>The Dry LES dataset</a></span><ul class=\"toc-item\"><li><span><a href=\"#Intro-to-netcdf\" data-toc-modified-id=\"Intro-to-netcdf-2.1.1\"><span class=\"toc-item-num\">2.1.1&nbsp;&nbsp;</span>Intro to netcdf</a></span></li></ul></li><li><span><a href=\"#Intro-to-python-packages\" data-toc-modified-id=\"Intro-to-python-packages-2.2\"><span class=\"toc-item-num\">2.2&nbsp;&nbsp;</span>Intro to python packages</a></span></li><li><span><a href=\"#Setting-up-the-environment\" data-toc-modified-id=\"Setting-up-the-environment-2.3\"><span class=\"toc-item-num\">2.3&nbsp;&nbsp;</span>Setting up the environment</a></span></li><li><span><a href=\"#Intro-to-jupytext\" data-toc-modified-id=\"Intro-to-jupytext-2.4\"><span class=\"toc-item-num\">2.4&nbsp;&nbsp;</span>Intro to jupytext</a></span></li><li><span><a href=\"#Now-download-the-data\" data-toc-modified-id=\"Now-download-the-data-2.5\"><span class=\"toc-item-num\">2.5&nbsp;&nbsp;</span>Now download the data</a></span></li><li><span><a href=\"#Dumping-the-netcdf-metadata\" data-toc-modified-id=\"Dumping-the-netcdf-metadata-2.6\"><span class=\"toc-item-num\">2.6&nbsp;&nbsp;</span>Dumping the netcdf metadata</a></span></li><li><span><a href=\"#Plot-$\\theta$-profile-for-every-third-timestep-(i.e.-every-30-minutes)\" data-toc-modified-id=\"Plot-$\\theta$-profile-for-every-third-timestep-(i.e.-every-30-minutes)-2.7\"><span class=\"toc-item-num\">2.7&nbsp;&nbsp;</span>Plot $\\theta$ profile for every third timestep (i.e. every 30 minutes)</a></span></li><li><span><a href=\"#Color-contour-plot-of-one-level-for-realization-c1,-last-timestep\" data-toc-modified-id=\"Color-contour-plot-of-one-level-for-realization-c1,-last-timestep-2.8\"><span class=\"toc-item-num\">2.8&nbsp;&nbsp;</span>Color contour plot of one level for realization c1, last timestep</a></span></li></ul></li><li><span><a href=\"#Assignment\" data-toc-modified-id=\"Assignment-3\"><span class=\"toc-item-num\">3&nbsp;&nbsp;</span>Assignment</a></span><ul class=\"toc-item\"><li><span><a href=\"#Option-1----return-perturbations-as-a-list\" data-toc-modified-id=\"Option-1----return-perturbations-as-a-list-3.1\"><span class=\"toc-item-num\">3.1&nbsp;&nbsp;</span>Option 1 -- return perturbations as a list</a></span></li><li><span><a href=\"#Option-2----return-a-4-dimensional-array-with-ensembles-as-the-first-dimension\" data-toc-modified-id=\"Option-2----return-a-4-dimensional-array-with-ensembles-as-the-first-dimension-3.2\"><span class=\"toc-item-num\">3.2&nbsp;&nbsp;</span>Option 2 -- return a 4 dimensional array with ensembles as the first dimension</a></span></li></ul></li></ul></div>"
   ]
  },
  {
   "cell_type": "code",
   "execution_count": 1,
   "metadata": {},
   "outputs": [],
   "source": [
    "#import antigravity"
   ]
  },
  {
   "cell_type": "markdown",
   "metadata": {},
   "source": [
    "# setup\n",
    "\n",
    "Here's an alternative to using the a500/__init__.py file to define your paths. Import a context module that lives in the same directory as dry_les.ipynb and python/dry_les.ipynb (so you need two copies). Advantage: this file can be changed without having to reinstall the a500 module."
   ]
  },
  {
   "cell_type": "code",
   "execution_count": 2,
   "metadata": {},
   "outputs": [
    {
     "name": "stdout",
     "output_type": "stream",
     "text": [
      "through /Users/phil/repos/a500_notebooks/notebooks/context.py\n",
      "here is the data folder: /Users/phil/repos/a500_notebooks/data\n"
     ]
    }
   ],
   "source": [
    "import context\n",
    "print(f'here is the data folder: {context.data_dir}')"
   ]
  },
  {
   "cell_type": "code",
   "execution_count": 3,
   "metadata": {
    "lines_to_next_cell": 2
   },
   "outputs": [
    {
     "name": "stdout",
     "output_type": "stream",
     "text": [
      "through /Users/phil/repos/a500_notebooks/a500/__init__.py\n"
     ]
    }
   ],
   "source": [
    "import sys\n",
    "import a500\n",
    "from matplotlib import pyplot as plt\n",
    "from netCDF4 import Dataset\n",
    "import numpy as np"
   ]
  },
  {
   "cell_type": "markdown",
   "metadata": {},
   "source": [
    "# Introduction"
   ]
  },
  {
   "cell_type": "markdown",
   "metadata": {},
   "source": [
    "## The Dry LES dataset\n",
    "\n",
    "This notebook looks at a portion of a dataset that was generated by running a large eddy simulation 10 different times with identical conditions.  The 10 realizations of temperature and pressure are stored as a single netcdf file\n",
    "\n",
    "### Intro to netcdf\n",
    "\n",
    "See the function descriptions and tutorial at http://unidata.github.io/netcdf4-python/\n",
    "\n",
    "## Intro to python packages\n",
    "\n",
    "Start with this general intro:  https://www.learnpython.org/en/Modules_and_Packages\n",
    "\n",
    "This notebook is part of this git repo: https://github.com/phaustin/a500_notebooks\n",
    "\n",
    "Clone this repo:\n",
    "\n",
    "```\n",
    "git clone https://github.com/phaustin/a500_notebooks\n",
    "```\n",
    "\n",
    "The `a500_notebooks` folder contains a python setup.py file:  https://github.com/phaustin/a500_notebooks/blob/master/setup.py\n",
    "which can be used to install a series of helper routines:  \n",
    "\n",
    "https://github.com/phaustin/a500_notebooks/tree/master/a500/utils\n",
    "\n",
    "a. To install these using pip, first sync with my repo.\n",
    "   \n",
    "     cd a500_notebooks\n",
    "     git fetch origin\n",
    "     git reset --hard origin/master\n",
    " \n",
    " b. Next to an [\"editable install\"](https://stackoverflow.com/questions/42609943/what-is-the-use-case-for-pip-install-e), so that you can continue to change the module after installation:\n",
    "    \n",
    "    pip install -e .\n",
    "    \n",
    "   (this is called an editable install for reasons I'll explain in class)\n",
    "   \n",
    "   [1]: https://en.wikipedia.org/wiki/Pip_(package_manager)\n",
    " \n",
    "b. Check the install by executing the cell below to download a data file.\n",
    "\n",
    "   If it succeeds, you should see:\n",
    "   \n",
    "       download case_60_10.nc: size is    499.3 Mbytes"
   ]
  },
  {
   "cell_type": "markdown",
   "metadata": {},
   "source": [
    "## Setting up the environment\n",
    "\n",
    "You should be able to create an environment called \"a500test\" by changing into the conda folder and doing:\n",
    "\n",
    "```\n",
    "conda env create -f environment.yml\n",
    "conda activate a500test\n",
    "```\n",
    "\n",
    "as explained in class\n"
   ]
  },
  {
   "cell_type": "markdown",
   "metadata": {},
   "source": [
    "## Intro to jupytext"
   ]
  },
  {
   "cell_type": "markdown",
   "metadata": {},
   "source": [
    "Note that the two notebooks in https://github.com/phaustin/a500_notebooks/tree/master/notebooks both have\n",
    "python versions in https://github.com/phaustin/a500_notebooks/tree/master/notebooks/python\n",
    "\n",
    "In class I'll explain how I use https://github.com/mwouts/jupytext  to pair every ipynb file with a py file that is easier to examine and maintain on github, and how jupyter notebooks can sync the pair of ipynb and py files using\n",
    "[jupyter_notebook_config.py](https://github.com/phaustin/a500_notebooks/blob/master/conda/jupyter_notebook_config.py)\n"
   ]
  },
  {
   "cell_type": "markdown",
   "metadata": {},
   "source": [
    "## Now download the data"
   ]
  },
  {
   "cell_type": "code",
   "execution_count": 4,
   "metadata": {},
   "outputs": [
    {
     "name": "stdout",
     "output_type": "stream",
     "text": [
      "trying http://clouds.eos.ubc.ca/~phil/docs/atsc500/data//case_60_10.nc\n",
      "writing to: /Users/phil/repos/a500_notebooks/data/case_60_10.nc\n",
      "\n",
      "case_60_10.nc already exists\n",
      "and is 499251027 bytes\n",
      "will not overwrite\n",
      "\n"
     ]
    }
   ],
   "source": [
    "from  a500.utils.data_read import download\n",
    "the_root=\"http://clouds.eos.ubc.ca/~phil/docs/atsc500/data/\"\n",
    "the_file='case_60_10.nc'\n",
    "out=download(the_file,root=the_root,dest_folder=a500.data_dir)"
   ]
  },
  {
   "cell_type": "markdown",
   "metadata": {},
   "source": [
    "## Dumping the netcdf metadata\n",
    "\n",
    "Netcdf file layout:  10 groups corresponding to 10 different ensemble members.  Small slice of larger domain of LES run with surface heat flux of 60 W/m^2 and stable layer with dT/dz = 10 K/km.  Snapshots every 10 minutes for 8 hours.\n",
    "\n",
    "We can read the metdata using the following utils function:"
   ]
  },
  {
   "cell_type": "code",
   "execution_count": 5,
   "metadata": {
    "scrolled": false
   },
   "outputs": [
    {
     "name": "stdout",
     "output_type": "stream",
     "text": [
      "NetCDF Global Attributes:\n",
      "\theat_flux_W_m2: 100\n",
      "\tgamma_K_km: 10\n",
      "NetCDF dimension information:\n",
      "\tName: time\n",
      "\t\tsize: 48\n",
      "\t\ttype: dtype('float32')\n",
      "\t\tunits: 'minutes'\n",
      "\tName: x\n",
      "\t\tsize: 25\n",
      "\t\ttype: dtype('float32')\n",
      "\t\tunits: 'meters'\n",
      "\tName: y\n",
      "\t\tsize: 20\n",
      "\t\ttype: dtype('float32')\n",
      "\t\tunits: 'meters'\n",
      "\tName: z\n",
      "\t\tsize: 130\n",
      "\t\ttype: dtype('float32')\n",
      "\t\tunits: 'meters'\n",
      "NetCDF variable information for group root:\n",
      "\tName: press\n",
      "\t\tdimensions: ('z',)\n",
      "\t\tsize: 130\n",
      "\t\ttype: dtype('float32')\n",
      "\t\tunits: 'Pa'\n",
      "NetCDF variable information for group c1:\n",
      "\tName: TABS\n",
      "\t\tdimensions: ('time', 'z', 'y', 'x')\n",
      "\t\tsize: 3120000\n",
      "\t\tWARNING: TABS does not contain variable attributes\n",
      "\tName: W\n",
      "\t\tdimensions: ('time', 'z', 'y', 'x')\n",
      "\t\tsize: 3120000\n",
      "\t\tWARNING: W does not contain variable attributes\n",
      "\tName: U\n",
      "\t\tdimensions: ('time', 'z', 'y', 'x')\n",
      "\t\tsize: 3120000\n",
      "\t\tWARNING: U does not contain variable attributes\n",
      "\tName: V\n",
      "\t\tdimensions: ('time', 'z', 'y', 'x')\n",
      "\t\tsize: 3120000\n",
      "\t\tWARNING: V does not contain variable attributes\n",
      "NetCDF variable information for group c2:\n",
      "\tName: TABS\n",
      "\t\tdimensions: ('time', 'z', 'y', 'x')\n",
      "\t\tsize: 3120000\n",
      "\t\tWARNING: TABS does not contain variable attributes\n",
      "\tName: W\n",
      "\t\tdimensions: ('time', 'z', 'y', 'x')\n",
      "\t\tsize: 3120000\n",
      "\t\tWARNING: W does not contain variable attributes\n",
      "\tName: U\n",
      "\t\tdimensions: ('time', 'z', 'y', 'x')\n",
      "\t\tsize: 3120000\n",
      "\t\tWARNING: U does not contain variable attributes\n",
      "\tName: V\n",
      "\t\tdimensions: ('time', 'z', 'y', 'x')\n",
      "\t\tsize: 3120000\n",
      "\t\tWARNING: V does not contain variable attributes\n",
      "NetCDF variable information for group c3:\n",
      "\tName: TABS\n",
      "\t\tdimensions: ('time', 'z', 'y', 'x')\n",
      "\t\tsize: 3120000\n",
      "\t\tWARNING: TABS does not contain variable attributes\n",
      "\tName: W\n",
      "\t\tdimensions: ('time', 'z', 'y', 'x')\n",
      "\t\tsize: 3120000\n",
      "\t\tWARNING: W does not contain variable attributes\n",
      "\tName: U\n",
      "\t\tdimensions: ('time', 'z', 'y', 'x')\n",
      "\t\tsize: 3120000\n",
      "\t\tWARNING: U does not contain variable attributes\n",
      "\tName: V\n",
      "\t\tdimensions: ('time', 'z', 'y', 'x')\n",
      "\t\tsize: 3120000\n",
      "\t\tWARNING: V does not contain variable attributes\n",
      "NetCDF variable information for group c4:\n",
      "\tName: TABS\n",
      "\t\tdimensions: ('time', 'z', 'y', 'x')\n",
      "\t\tsize: 3120000\n",
      "\t\tWARNING: TABS does not contain variable attributes\n",
      "\tName: W\n",
      "\t\tdimensions: ('time', 'z', 'y', 'x')\n",
      "\t\tsize: 3120000\n",
      "\t\tWARNING: W does not contain variable attributes\n",
      "\tName: U\n",
      "\t\tdimensions: ('time', 'z', 'y', 'x')\n",
      "\t\tsize: 3120000\n",
      "\t\tWARNING: U does not contain variable attributes\n",
      "\tName: V\n",
      "\t\tdimensions: ('time', 'z', 'y', 'x')\n",
      "\t\tsize: 3120000\n",
      "\t\tWARNING: V does not contain variable attributes\n",
      "NetCDF variable information for group c5:\n",
      "\tName: TABS\n",
      "\t\tdimensions: ('time', 'z', 'y', 'x')\n",
      "\t\tsize: 3120000\n",
      "\t\tWARNING: TABS does not contain variable attributes\n",
      "\tName: W\n",
      "\t\tdimensions: ('time', 'z', 'y', 'x')\n",
      "\t\tsize: 3120000\n",
      "\t\tWARNING: W does not contain variable attributes\n",
      "\tName: U\n",
      "\t\tdimensions: ('time', 'z', 'y', 'x')\n",
      "\t\tsize: 3120000\n",
      "\t\tWARNING: U does not contain variable attributes\n",
      "\tName: V\n",
      "\t\tdimensions: ('time', 'z', 'y', 'x')\n",
      "\t\tsize: 3120000\n",
      "\t\tWARNING: V does not contain variable attributes\n",
      "NetCDF variable information for group c6:\n",
      "\tName: TABS\n",
      "\t\tdimensions: ('time', 'z', 'y', 'x')\n",
      "\t\tsize: 3120000\n",
      "\t\tWARNING: TABS does not contain variable attributes\n",
      "\tName: W\n",
      "\t\tdimensions: ('time', 'z', 'y', 'x')\n",
      "\t\tsize: 3120000\n",
      "\t\tWARNING: W does not contain variable attributes\n",
      "\tName: U\n",
      "\t\tdimensions: ('time', 'z', 'y', 'x')\n",
      "\t\tsize: 3120000\n",
      "\t\tWARNING: U does not contain variable attributes\n",
      "\tName: V\n",
      "\t\tdimensions: ('time', 'z', 'y', 'x')\n",
      "\t\tsize: 3120000\n",
      "\t\tWARNING: V does not contain variable attributes\n",
      "NetCDF variable information for group c7:\n",
      "\tName: TABS\n",
      "\t\tdimensions: ('time', 'z', 'y', 'x')\n",
      "\t\tsize: 3120000\n",
      "\t\tWARNING: TABS does not contain variable attributes\n",
      "\tName: W\n",
      "\t\tdimensions: ('time', 'z', 'y', 'x')\n",
      "\t\tsize: 3120000\n",
      "\t\tWARNING: W does not contain variable attributes\n",
      "\tName: U\n",
      "\t\tdimensions: ('time', 'z', 'y', 'x')\n",
      "\t\tsize: 3120000\n",
      "\t\tWARNING: U does not contain variable attributes\n",
      "\tName: V\n",
      "\t\tdimensions: ('time', 'z', 'y', 'x')\n",
      "\t\tsize: 3120000\n",
      "\t\tWARNING: V does not contain variable attributes\n",
      "NetCDF variable information for group c8:\n",
      "\tName: TABS\n",
      "\t\tdimensions: ('time', 'z', 'y', 'x')\n",
      "\t\tsize: 3120000\n",
      "\t\tWARNING: TABS does not contain variable attributes\n",
      "\tName: W\n",
      "\t\tdimensions: ('time', 'z', 'y', 'x')\n",
      "\t\tsize: 3120000\n",
      "\t\tWARNING: W does not contain variable attributes\n",
      "\tName: U\n",
      "\t\tdimensions: ('time', 'z', 'y', 'x')\n",
      "\t\tsize: 3120000\n",
      "\t\tWARNING: U does not contain variable attributes\n",
      "\tName: V\n",
      "\t\tdimensions: ('time', 'z', 'y', 'x')\n",
      "\t\tsize: 3120000\n",
      "\t\tWARNING: V does not contain variable attributes\n",
      "NetCDF variable information for group c9:\n",
      "\tName: TABS\n",
      "\t\tdimensions: ('time', 'z', 'y', 'x')\n",
      "\t\tsize: 3120000\n",
      "\t\tWARNING: TABS does not contain variable attributes\n",
      "\tName: W\n",
      "\t\tdimensions: ('time', 'z', 'y', 'x')\n",
      "\t\tsize: 3120000\n",
      "\t\tWARNING: W does not contain variable attributes\n",
      "\tName: U\n",
      "\t\tdimensions: ('time', 'z', 'y', 'x')\n",
      "\t\tsize: 3120000\n",
      "\t\tWARNING: U does not contain variable attributes\n",
      "\tName: V\n",
      "\t\tdimensions: ('time', 'z', 'y', 'x')\n",
      "\t\tsize: 3120000\n",
      "\t\tWARNING: V does not contain variable attributes\n",
      "NetCDF variable information for group c10:\n",
      "\tName: TABS\n",
      "\t\tdimensions: ('time', 'z', 'y', 'x')\n",
      "\t\tsize: 3120000\n",
      "\t\tWARNING: TABS does not contain variable attributes\n",
      "\tName: W\n",
      "\t\tdimensions: ('time', 'z', 'y', 'x')\n",
      "\t\tsize: 3120000\n",
      "\t\tWARNING: W does not contain variable attributes\n",
      "\tName: U\n",
      "\t\tdimensions: ('time', 'z', 'y', 'x')\n",
      "\t\tsize: 3120000\n",
      "\t\tWARNING: U does not contain variable attributes\n",
      "\tName: V\n",
      "\t\tdimensions: ('time', 'z', 'y', 'x')\n",
      "\t\tsize: 3120000\n",
      "\t\tWARNING: V does not contain variable attributes\n"
     ]
    }
   ],
   "source": [
    "from a500.utils.ncdump import ncdump\n",
    "\n",
    "the_file = a500.data_dir / the_file\n",
    "with Dataset(the_file) as nc_in:\n",
    "    ncdump(nc_in)"
   ]
  },
  {
   "cell_type": "markdown",
   "metadata": {},
   "source": [
    "## Plot $\\theta$ profile for every third timestep (i.e. every 30 minutes)"
   ]
  },
  {
   "cell_type": "code",
   "execution_count": 6,
   "metadata": {
    "lines_to_next_cell": 2
   },
   "outputs": [
    {
     "data": {
      "image/png": "[encoded data removed]",
      "text/plain": [
       "<Figure size 720x576 with 1 Axes>"
      ]
     },
     "metadata": {
      "needs_background": "light"
     },
     "output_type": "display_data"
    }
   ],
   "source": [
    "def make_theta(temp,press):\n",
    "    \"\"\"\n",
    "      temp in K\n",
    "      press in Pa\n",
    "      returns theta in K\n",
    "    \"\"\"\n",
    "    p0=1.e5\n",
    "    Rd=287.  #J/kg/K\n",
    "    cpd=1004.  #J/kg/K\n",
    "    theta=temp*(p0/press)**(Rd/cpd)\n",
    "    return theta\n",
    "\n",
    "case_name='case_60_10.nc'\n",
    "#\n",
    "#  look at the first ensemble member\n",
    "#\n",
    "ensemble='c1'\n",
    "with Dataset(case_name,'r') as ncin:\n",
    "    #\n",
    "    # grab the group variables\n",
    "    #\n",
    "    group = ncin.groups[ensemble]\n",
    "    temp=group.variables['TABS'][...]\n",
    "    press=ncin.variables['press'][...]\n",
    "    z=ncin.variables['z'][...]\n",
    "mean_temp=temp.mean(axis=(3,2))\n",
    "\n",
    "fig,ax=plt.subplots(1,1,figsize=(10,8))\n",
    "for i in np.arange(0,temp.shape[0],3):\n",
    "    theta = make_theta(mean_temp[i,:],press)\n",
    "    ax.plot(theta,z)\n",
    "out=ax.set(xlabel=r'$\\overline{\\theta}$ (K)',ylabel='height (m)',\n",
    "       title=f'LES dry run for realization {ensemble}:  surface flux=60 $W\\,m^{-2}$, $\\Gamma$=10 K/km')\n",
    "ax.grid(True, which='both')"
   ]
  },
  {
   "cell_type": "code",
   "execution_count": 7,
   "metadata": {},
   "outputs": [
    {
     "data": {
      "text/plain": [
       "(48, 130, 20, 25)"
      ]
     },
     "execution_count": 7,
     "metadata": {},
     "output_type": "execute_result"
    }
   ],
   "source": [
    "temp.shape"
   ]
  },
  {
   "cell_type": "markdown",
   "metadata": {},
   "source": [
    "## Color contour plot of one level for realization c1, last timestep\n",
    "\n",
    "1. Find the index of the level closest to 400 meters using searchsorted\n",
    "2. Retrieve the horizontal temperature field for this realization at the last timestep"
   ]
  },
  {
   "cell_type": "code",
   "execution_count": 8,
   "metadata": {
    "lines_to_next_cell": 2
   },
   "outputs": [],
   "source": [
    "index=np.searchsorted(z,400.)\n",
    "temp_400=temp[-1,index,:,:]"
   ]
  },
  {
   "cell_type": "code",
   "execution_count": 9,
   "metadata": {},
   "outputs": [
    {
     "data": {
      "image/png": "[encoded data removed]",
      "text/plain": [
       "<Figure size 720x576 with 2 Axes>"
      ]
     },
     "metadata": {
      "needs_background": "light"
     },
     "output_type": "display_data"
    }
   ],
   "source": [
    "temp_diff=temp_400 - temp_400.mean(axis=(0,1))\n",
    "fig,ax=plt.subplots(1,1,figsize=(10,8))\n",
    "with Dataset(case_name,'r') as ncin:\n",
    "    x=ncin.variables['x'][...]\n",
    "    y=ncin.variables['y'][...]\n",
    "cs=ax.pcolormesh(x,y,temp_diff)\n",
    "cb=fig.colorbar(cs)\n",
    "cb.set_label('temperature perturbation (K)',rotation=-90)"
   ]
  },
  {
   "cell_type": "markdown",
   "metadata": {},
   "source": [
    "# Assignment"
   ]
  },
  {
   "cell_type": "markdown",
   "metadata": {},
   "source": [
    "This routine from [tropical_boundary_layer.py](https://github.com/phaustin/a500_notebooks/blob/ddeaec7f1baaf6cd25a15ab3c2c436a677136c07/notebooks/python/tropical_boundary_layer.py#L74-L83) calculates the 2-d horizontal spatial mean and the perturbation for a 3-d field like temperature.\n",
    "\n",
    "```\n",
    "def do_reynolds(array3d):\n",
    "    \"\"\"\n",
    "        do a spatial-mean reynolds average of a 3d field array3d\n",
    "        needs dimensions arranged as (z,y,x)\n",
    "        returns avg(z),perturb(z,y,x)\n",
    "    \"\"\"\n",
    "    avg=array3d.mean(axis=2).mean(axis=1)\n",
    "    perturb=array3d.T - avg\n",
    "    perturb=perturb.T\n",
    "    return avg,perturb\n",
    "```"
   ]
  },
  {
   "cell_type": "markdown",
   "metadata": {},
   "source": [
    "In the cell below, write a new version that calculates the ensemble mean and the 3-d perturbation for a 3D field like TABS in the dry-les dataset."
   ]
  },
  {
   "cell_type": "markdown",
   "metadata": {},
   "source": [
    "a.) Using your version of do_reynolds, make a pcolormesh plot for the ensemble-averaged vertical temperature flux\n",
    "at the 400 meter level for this ensemble"
   ]
  },
  {
   "cell_type": "markdown",
   "metadata": {},
   "source": [
    "b.) Plot the horizontally averaged vertical temperature-flux vs. height for each of the 10 ensemble members as 10 lines, to show the variablity in the between individual ensemble members.\n"
   ]
  },
  {
   "cell_type": "code",
   "execution_count": 10,
   "metadata": {},
   "outputs": [],
   "source": [
    "def do_ensemble_average(nc_in, varname, timestep):\n",
    "    \"\"\"\n",
    "        do an ensemble-mean of 3d field varname at timestep=timestep\n",
    "        given a netcdf file with groups containing the ensemble members\n",
    "        returns varname_average\n",
    "        \n",
    "        Variable dimension order needs to be (time,z,y,x)\n",
    "        \n",
    "        Parameters\n",
    "        ----------\n",
    "        \n",
    "        ncfile:  netcdf4 Dataset\n",
    "        varname: string\n",
    "             variable name to average over\n",
    "        timestep: int\n",
    "             timestep to select\n",
    "             \n",
    "        Returns\n",
    "        -------\n",
    "        \n",
    "        avg_var:  float\n",
    "            ensemble average of the variable\n",
    "\n",
    "    \"\"\"\n",
    "    #\n",
    "    # also fine to list the group names by hand\n",
    "    #  like ['c0','c1','c2',...]\n",
    "    #\n",
    "    group_names=list(nc_in.groups.keys())\n",
    "    group0=nc_in.groups[group_names[0]]\n",
    "    var0=group0.variables[varname][timestep,...]\n",
    "    for a_name in group_names[1:]:\n",
    "        the_group=nc_in.groups[a_name]\n",
    "        new_var = the_group.variables[varname][timestep,...]\n",
    "        var0 = var0 + new_var\n",
    "    avg_var = var0 / len(group_names)\n",
    "    return avg_var\n",
    "\n",
    "the_file= a500.data_dir / 'case_60_10.nc'\n",
    "\n",
    "with Dataset(the_file) as nc_in:\n",
    "    out=do_ensemble_average(nc_in,'TABS',-1)\n"
   ]
  },
  {
   "cell_type": "markdown",
   "metadata": {},
   "source": [
    "## Option 1 -- return perturbations as a list"
   ]
  },
  {
   "cell_type": "code",
   "execution_count": 11,
   "metadata": {},
   "outputs": [],
   "source": [
    "def find_perturbations_1(nc_in, varname, timestep):\n",
    "    \"\"\"\n",
    "    Given an ensemble of runs where each ensemble member is \n",
    "    stored as a group, read in all groups and return a list of \n",
    "    3-d perturbations for variable varname at timestep timestep\n",
    "    \n",
    "    Assumptions: dimensions are [time,z,y,x]\n",
    "    \n",
    "    Parameters\n",
    "    ----------\n",
    "    \n",
    "    nc_in: open netCDF4 dataset\n",
    "    varname:  string\n",
    "        name of variable\n",
    "    timestep: int\n",
    "        index of timestep to average\n",
    "        \n",
    "    Returns\n",
    "    -------\n",
    "    \n",
    "    peturb_list: list\n",
    "      \n",
    "      list of ndarrays with dtype the same as input arrays\n",
    "      dimensioned [z,y,x]  where ensemble_no\n",
    "      is the index indicating ensemble member\n",
    "    \"\"\"\n",
    "    the_avg=do_ensemble_average(nc_in, varname, timestep)\n",
    "    group_names=list(nc_in.groups.keys())\n",
    "    perturb_list=list()\n",
    "    for a_name in group_names:\n",
    "        the_group=nc_in.groups[a_name]\n",
    "        new_var = the_group.variables[varname][timestep,...]\n",
    "        the_perturb=new_var - the_avg\n",
    "        perturb_list.append(the_perturb)\n",
    "    return perturb_list\n",
    "\n",
    "with Dataset(the_file) as nc_in:\n",
    "    out=find_perturbations_1(nc_in,'TABS',-1)\n"
   ]
  },
  {
   "cell_type": "markdown",
   "metadata": {},
   "source": [
    "## Option 2 -- return a 4 dimensional array with ensembles as the first dimension"
   ]
  },
  {
   "cell_type": "code",
   "execution_count": 12,
   "metadata": {
    "lines_to_next_cell": 3
   },
   "outputs": [],
   "source": [
    "def find_perturbations_2(nc_in, varname, timestep):\n",
    "    \"\"\"\n",
    "    Given an ensemble of runs where each ensemble member is \n",
    "    stored as a group, read in all groups and return a 4d array\n",
    "    of 3-d perturbations for variable varname at timestep timestep\n",
    "    \n",
    "    Assumptions: dimensions are [time,z,y,x]\n",
    "    \n",
    "    Parameters\n",
    "    ----------\n",
    "    \n",
    "    nc_in: open netCDF4 dataset\n",
    "    varname:  string\n",
    "        name of variable\n",
    "    timestep: int\n",
    "        index of timestep to average\n",
    "        \n",
    "    Returns\n",
    "    -------\n",
    "    \n",
    "    peturb_array: ndarray with dtype the same as input arrays\n",
    "      dimensioned [ensemble_no,z,y,x]  where ensemble_no\n",
    "      is the index indicating ensemble member\n",
    "    \n",
    "    \"\"\"\n",
    "    the_avg=do_ensemble_average(nc_in, varname, timestep)\n",
    "    #\n",
    "    # get the first ensemble member to set the dimensions and\n",
    "    # find the dtype\n",
    "    #\n",
    "    group_names=list(nc_in.groups.keys())\n",
    "    group_0 = nc_in.groups[group_names[0]]\n",
    "    var_0 = group_0.variables[varname][timestep,...]\n",
    "    dtype=var_0.dtype\n",
    "    zlen,ylen,xlen=var_0.shape\n",
    "    #\n",
    "    # create an empty 4 dimensional array with ensemble number as the\n",
    "    # lead index\n",
    "    #\n",
    "    perturb_array=np.empty([len(group_names),zlen,ylen,xlen],dtype=dtype)\n",
    "    the_perturb = var_0 - the_avg\n",
    "    perturb_array[0,...]=the_perturb[...]\n",
    "    for index,a_name in enumerate(group_names[1:]):\n",
    "        the_group=nc_in.groups[a_name]\n",
    "        new_var = the_group.variables[varname][timestep,...]\n",
    "        the_perturb=new_var - the_avg\n",
    "        perturb_array[index+1,...]=the_perturb\n",
    "    return perturb_array"
   ]
  },
  {
   "cell_type": "code",
   "execution_count": 13,
   "metadata": {
    "lines_to_next_cell": 3
   },
   "outputs": [],
   "source": [
    "def do_ensemble_reynolds(var0,var1):\n",
    "    \"\"\"\n",
    "    given two 4 dimensional arrays with dimensions [ensemble_num,z,y,x]\n",
    "    find the ensemble Reynolds average of their product\n",
    "    \n",
    "    Parameters\n",
    "    ----------\n",
    "    \n",
    "    var0: ndarray\n",
    "      dimensions [ensemble,z,y,x]\n",
    "      \n",
    "    var1: ndarray\n",
    "      dimensions [ensemble,z,y,x]\n",
    "      \n",
    "    Returns\n",
    "    -------\n",
    "    \n",
    "    reynolds_avg:  ndarray\n",
    "      dimensions [z,y,x] -- the three dimensional Reynolds average\n",
    "    \"\"\"\n",
    "    reynolds_avg=(var0*var1).mean(axis=(0,))\n",
    "    return reynolds_avg\n",
    "\n",
    "def do_horiz_reynolds(var0,var1):\n",
    "    \"\"\"\n",
    "    given two 3 dimensional arrays with dimensions [z,y,x]\n",
    "    find the horizontal Reynolds average of their product\n",
    "    \n",
    "    Parameters\n",
    "    ----------\n",
    "    \n",
    "    var0: ndarray\n",
    "      dimensions [z,y,x]\n",
    "      \n",
    "    var1: ndarray\n",
    "      dimensions [z,y,x]\n",
    "      \n",
    "    Returns\n",
    "    -------\n",
    "    \n",
    "    reynolds_avg:  ndarray\n",
    "      dimensions [z] -- the Reynolds average of the perturbations\n",
    "    \"\"\"\n",
    "    reynolds_avg=(var0*var1).mean(axis=(1,2))\n",
    "    return reynolds_avg"
   ]
  },
  {
   "cell_type": "markdown",
   "metadata": {},
   "source": [
    "## Calculate the ensemble perturbation of the enthalpy flux in $W/m^2$"
   ]
  },
  {
   "cell_type": "code",
   "execution_count": 14,
   "metadata": {
    "lines_to_next_cell": 3
   },
   "outputs": [],
   "source": [
    "with Dataset(the_file) as nc_in:\n",
    "    Tperturb=find_perturbations_2(nc_in,'TABS',-1)\n",
    "    Wperturb=find_perturbations_2(nc_in,'W',-1)\n",
    "    height = nc_in.variables['z'][:]\n",
    "    \n",
    "reynolds_ens_avg=do_ensemble_reynolds(Wperturb,Tperturb)\n",
    "rho=1  #kg/m^3\n",
    "cp=1024 #J/kg/K\n",
    "reynolds_ens_watts = rho*cp*reynolds_ens_avg"
   ]
  },
  {
   "cell_type": "markdown",
   "metadata": {},
   "source": [
    "## Plot the ensemble average along with the 10 individual horizontal averages"
   ]
  },
  {
   "cell_type": "code",
   "execution_count": 15,
   "metadata": {
    "lines_to_next_cell": 3
   },
   "outputs": [
    {
     "data": {
      "image/png": "[encoded data removed]",
      "text/plain": [
       "<Figure size 504x504 with 1 Axes>"
      ]
     },
     "metadata": {
      "needs_background": "light"
     },
     "output_type": "display_data"
    }
   ],
   "source": [
    "fig, ax = plt.subplots(1,1,figsize=(7,7))\n",
    "horiz_avg=reynolds_ens_watts.mean(axis=(1,2))\n",
    "avg_flux=ax.plot(horiz_avg,height,lw=3)\n",
    "ax.set(xlabel=\"enthalpy flux (W/m^2)\")\n",
    "ax.set(ylabel=\"height (m)\")\n",
    "ax.set(title=\"last time step, sensible enthalpy flux\")\n",
    "\n",
    "nens,nz,ny,nx = Tperturb.shape\n",
    "for i in range(nens):\n",
    "    the_temp=Tperturb[i,...]\n",
    "    the_wvel=Wperturb[i,...]\n",
    "    horiz_avg_flux = do_horiz_reynolds(the_temp,the_wvel)*rho*cp\n",
    "    ax.plot(horiz_avg_flux,height,'b-',lw=0.4)\n",
    "    \n"
   ]
  }
 ],
 "metadata": {
  "jupytext": {
   "cell_metadata_filter": "-all",
   "notebook_metadata_filter": "-all",
   "text_representation": {
    "extension": ".py",
    "format_name": "percent"
   }
  },
  "kernelspec": {
   "display_name": "Python 3",
   "language": "python",
   "name": "python3"
  },
  "language_info": {
   "codemirror_mode": {
    "name": "ipython",
    "version": 3
   },
   "file_extension": ".py",
   "mimetype": "text/x-python",
   "name": "python",
   "nbconvert_exporter": "python",
   "pygments_lexer": "ipython3",
   "version": "3.7.3"
  },
  "toc": {
   "base_numbering": 1,
   "nav_menu": {},
   "number_sections": true,
   "sideBar": true,
   "skip_h1_title": false,
   "title_cell": "Table of Contents",
   "title_sidebar": "Contents",
   "toc_cell": true,
   "toc_position": {},
   "toc_section_display": true,
   "toc_window_display": true
  }
 },
 "nbformat": 4,
 "nbformat_minor": 2
}
